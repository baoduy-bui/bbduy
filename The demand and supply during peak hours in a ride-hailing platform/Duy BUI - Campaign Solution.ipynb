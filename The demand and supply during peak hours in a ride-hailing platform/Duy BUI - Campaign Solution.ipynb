{
 "cells": [
  {
   "cell_type": "code",
   "execution_count": 42,
   "id": "1e824455",
   "metadata": {},
   "outputs": [],
   "source": [
    "import pandas as pd\n",
    "import numpy as np\n",
    "import datetime\n",
    "import seaborn as sns\n",
    "import matplotlib.pyplot as plt"
   ]
  },
  {
   "cell_type": "code",
   "execution_count": 43,
   "id": "91a06f0a",
   "metadata": {},
   "outputs": [],
   "source": [
    "# load the dataset\n",
    "H_DriverActivity = pd.read_csv('Hourly_DriverActivity_1.csv - Hourly_DriverActivity_1.csv')\n",
    "H_OverviewSearch = pd.read_csv('Hourly_OverviewSearch_1.csv - Hourly_OverviewSearch_1.csv')\n"
   ]
  },
  {
   "cell_type": "markdown",
   "id": "b638c6fc",
   "metadata": {},
   "source": [
    "# Step 1: EDA and clean the dataset\n"
   ]
  },
  {
   "cell_type": "markdown",
   "id": "dfa9a193-8e83-4bfe-9701-2e9a86adb715",
   "metadata": {},
   "source": [
    "<h4>1) Table 1: \n",
    "    Hourly Driver Activity</h4>"
   ]
  },
  {
   "cell_type": "code",
   "execution_count": 44,
   "id": "300a1e7a",
   "metadata": {},
   "outputs": [
    {
     "name": "stdout",
     "output_type": "stream",
     "text": [
      "<class 'pandas.core.frame.DataFrame'>\n",
      "RangeIndex: 840 entries, 0 to 839\n",
      "Data columns (total 9 columns):\n",
      " #   Column                   Non-Null Count  Dtype  \n",
      "---  ------                   --------------  -----  \n",
      " 0   Date                     840 non-null    object \n",
      " 1   Active drivers           840 non-null    int64  \n",
      " 2   Online (h)               840 non-null    int64  \n",
      " 3   Has booking (h)          840 non-null    int64  \n",
      " 4   Waiting for booking (h)  840 non-null    int64  \n",
      " 5   Busy (h)                 840 non-null    int64  \n",
      " 6   Hours per active driver  840 non-null    float64\n",
      " 7   Rides per online hour    840 non-null    float64\n",
      " 8   Finished Rides           795 non-null    float64\n",
      "dtypes: float64(3), int64(5), object(1)\n",
      "memory usage: 59.2+ KB\n"
     ]
    }
   ],
   "source": [
    "H_DriverActivity.info()"
   ]
  },
  {
   "cell_type": "markdown",
   "id": "cf5f6ae5",
   "metadata": {},
   "source": [
    "- There are 45 null values in column **\"Finished Rides\"**.\n",
    "- However, all the NaN values should have a value of 0. Therefore, the NaN value in column **\"Finished Rides\"** will be substituted by **0**, which will be handled in the latter part"
   ]
  },
  {
   "cell_type": "markdown",
   "id": "a442566e-915b-47f6-bf77-65b6b197b8f3",
   "metadata": {},
   "source": [
    "<h4>2) Table 2: Hourly Overview Search</h4> \n"
   ]
  },
  {
   "cell_type": "code",
   "execution_count": 45,
   "id": "6ff8b4de",
   "metadata": {},
   "outputs": [
    {
     "name": "stdout",
     "output_type": "stream",
     "text": [
      "<class 'pandas.core.frame.DataFrame'>\n",
      "RangeIndex: 839 entries, 0 to 838\n",
      "Data columns (total 4 columns):\n",
      " #   Column                       Non-Null Count  Dtype \n",
      "---  ------                       --------------  ----- \n",
      " 0   Date                         839 non-null    object\n",
      " 1   People saw 0 cars (unique)   839 non-null    int64 \n",
      " 2   People saw +1 cars (unique)  839 non-null    int64 \n",
      " 3   Coverage Ratio (unique)      839 non-null    int64 \n",
      "dtypes: int64(3), object(1)\n",
      "memory usage: 26.3+ KB\n"
     ]
    }
   ],
   "source": [
    "H_OverviewSearch.info()"
   ]
  },
  {
   "cell_type": "markdown",
   "id": "5991a8f2-6758-4031-a7ce-d782fc95c678",
   "metadata": {},
   "source": [
    "- There are no null values in table **H_OverviewSearch.** \n",
    "\n",
    "- However, there is 839 rows in <strong>H_OverviewSearch</strong> table. While the <strong>H_DriverActivity</strong> table has 840 rows, which meaning 1 day is missing in <strong>H_OverviewSearch</strong> table. After merging 2 tables can be merged, the missing date can be determinded.\n"
   ]
  },
  {
   "cell_type": "markdown",
   "id": "8d4cfabc-203f-4ad6-a588-23cbd70c09f8",
   "metadata": {},
   "source": [
    "#### 3) Merge 2 tables OverviewSearch and DriverActivity"
   ]
  },
  {
   "cell_type": "code",
   "execution_count": 46,
   "id": "b11c28ac-2d35-49f2-89bb-5abf2748893b",
   "metadata": {},
   "outputs": [],
   "source": [
    "# use outer join to make sure, the merge data will include all date in 2 tables\n",
    "data = pd.merge(H_DriverActivity, H_OverviewSearch, how=\"outer\", on=\"Date\") "
   ]
  },
  {
   "cell_type": "code",
   "execution_count": 47,
   "id": "aa2d34f9-b871-4f96-9069-423f3672c344",
   "metadata": {},
   "outputs": [
    {
     "data": {
      "text/html": [
       "<div>\n",
       "<style scoped>\n",
       "    .dataframe tbody tr th:only-of-type {\n",
       "        vertical-align: middle;\n",
       "    }\n",
       "\n",
       "    .dataframe tbody tr th {\n",
       "        vertical-align: top;\n",
       "    }\n",
       "\n",
       "    .dataframe thead th {\n",
       "        text-align: right;\n",
       "    }\n",
       "</style>\n",
       "<table border=\"1\" class=\"dataframe\">\n",
       "  <thead>\n",
       "    <tr style=\"text-align: right;\">\n",
       "      <th></th>\n",
       "      <th>Date</th>\n",
       "      <th>Active drivers</th>\n",
       "      <th>Online (h)</th>\n",
       "      <th>Has booking (h)</th>\n",
       "      <th>Waiting for booking (h)</th>\n",
       "      <th>Busy (h)</th>\n",
       "      <th>Hours per active driver</th>\n",
       "      <th>Rides per online hour</th>\n",
       "      <th>Finished Rides</th>\n",
       "      <th>People saw 0 cars (unique)</th>\n",
       "      <th>People saw +1 cars (unique)</th>\n",
       "      <th>Coverage Ratio (unique)</th>\n",
       "    </tr>\n",
       "  </thead>\n",
       "  <tbody>\n",
       "    <tr>\n",
       "      <th>0</th>\n",
       "      <td>2016-12-18 23</td>\n",
       "      <td>52</td>\n",
       "      <td>18</td>\n",
       "      <td>6</td>\n",
       "      <td>11</td>\n",
       "      <td>11</td>\n",
       "      <td>0.3</td>\n",
       "      <td>0.67</td>\n",
       "      <td>12.0</td>\n",
       "      <td>9.0</td>\n",
       "      <td>32.0</td>\n",
       "      <td>78.0</td>\n",
       "    </tr>\n",
       "    <tr>\n",
       "      <th>1</th>\n",
       "      <td>2016-12-18 22</td>\n",
       "      <td>59</td>\n",
       "      <td>20</td>\n",
       "      <td>11</td>\n",
       "      <td>9</td>\n",
       "      <td>12</td>\n",
       "      <td>0.3</td>\n",
       "      <td>1.40</td>\n",
       "      <td>28.0</td>\n",
       "      <td>29.0</td>\n",
       "      <td>64.0</td>\n",
       "      <td>69.0</td>\n",
       "    </tr>\n",
       "    <tr>\n",
       "      <th>2</th>\n",
       "      <td>2016-12-18 21</td>\n",
       "      <td>72</td>\n",
       "      <td>25</td>\n",
       "      <td>7</td>\n",
       "      <td>18</td>\n",
       "      <td>15</td>\n",
       "      <td>0.3</td>\n",
       "      <td>0.64</td>\n",
       "      <td>16.0</td>\n",
       "      <td>5.0</td>\n",
       "      <td>39.0</td>\n",
       "      <td>89.0</td>\n",
       "    </tr>\n",
       "    <tr>\n",
       "      <th>3</th>\n",
       "      <td>2016-12-18 20</td>\n",
       "      <td>86</td>\n",
       "      <td>29</td>\n",
       "      <td>7</td>\n",
       "      <td>23</td>\n",
       "      <td>15</td>\n",
       "      <td>0.3</td>\n",
       "      <td>0.52</td>\n",
       "      <td>15.0</td>\n",
       "      <td>13.0</td>\n",
       "      <td>48.0</td>\n",
       "      <td>79.0</td>\n",
       "    </tr>\n",
       "    <tr>\n",
       "      <th>4</th>\n",
       "      <td>2016-12-18 19</td>\n",
       "      <td>82</td>\n",
       "      <td>31</td>\n",
       "      <td>14</td>\n",
       "      <td>17</td>\n",
       "      <td>19</td>\n",
       "      <td>0.4</td>\n",
       "      <td>1.16</td>\n",
       "      <td>36.0</td>\n",
       "      <td>12.0</td>\n",
       "      <td>77.0</td>\n",
       "      <td>87.0</td>\n",
       "    </tr>\n",
       "  </tbody>\n",
       "</table>\n",
       "</div>"
      ],
      "text/plain": [
       "            Date  Active drivers  Online (h)  Has booking (h)  \\\n",
       "0  2016-12-18 23              52          18                6   \n",
       "1  2016-12-18 22              59          20               11   \n",
       "2  2016-12-18 21              72          25                7   \n",
       "3  2016-12-18 20              86          29                7   \n",
       "4  2016-12-18 19              82          31               14   \n",
       "\n",
       "   Waiting for booking (h)  Busy (h)  Hours per active driver  \\\n",
       "0                       11        11                      0.3   \n",
       "1                        9        12                      0.3   \n",
       "2                       18        15                      0.3   \n",
       "3                       23        15                      0.3   \n",
       "4                       17        19                      0.4   \n",
       "\n",
       "   Rides per online hour  Finished Rides  People saw 0 cars (unique)  \\\n",
       "0                   0.67            12.0                         9.0   \n",
       "1                   1.40            28.0                        29.0   \n",
       "2                   0.64            16.0                         5.0   \n",
       "3                   0.52            15.0                        13.0   \n",
       "4                   1.16            36.0                        12.0   \n",
       "\n",
       "   People saw +1 cars (unique)  Coverage Ratio (unique)  \n",
       "0                         32.0                     78.0  \n",
       "1                         64.0                     69.0  \n",
       "2                         39.0                     89.0  \n",
       "3                         48.0                     79.0  \n",
       "4                         77.0                     87.0  "
      ]
     },
     "execution_count": 47,
     "metadata": {},
     "output_type": "execute_result"
    }
   ],
   "source": [
    "data.head()"
   ]
  },
  {
   "cell_type": "markdown",
   "id": "576a5123-44ec-4dc2-a488-f031e163f6f9",
   "metadata": {},
   "source": [
    "#### 4) Add date-related columns\n",
    "Create additional columns related to day and time. This could be because these time-related columns can be used for better visuallization"
   ]
  },
  {
   "cell_type": "code",
   "execution_count": 48,
   "id": "67cbab1d-3f36-48b5-94ce-c7e1379e3d55",
   "metadata": {},
   "outputs": [],
   "source": [
    "# change column date to right date format \n",
    "data['Date'] = pd.to_datetime(data['Date'], format='%Y-%m-%d %H')\n"
   ]
  },
  {
   "cell_type": "code",
   "execution_count": 49,
   "id": "dfc76878-d96a-4427-8229-d2425222354b",
   "metadata": {},
   "outputs": [],
   "source": [
    "#Create Month_of_year col\n",
    "data.insert(1, \"Month_of_year\",data['Date'].dt.month)\n",
    "#Create Week_of_year col\n",
    "data.insert(2, \"Week_of_year\",data['Date'].dt.isocalendar().week)\n",
    "# Create Day_of_week col\n",
    "data.insert(3, \"Day_of_week\", data['Date'].dt.weekday)\n",
    "# Create Day_name col\n",
    "data.insert(4, \"Day_name\", data['Date'].dt.day_name())\n",
    "#Create Hour_of_day col\n",
    "data.insert(5, \"Hour_of_day\", data['Date'].dt.hour)"
   ]
  },
  {
   "cell_type": "markdown",
   "id": "a0e75f84-d159-45d1-91dd-1e07a7d24dbe",
   "metadata": {},
   "source": [
    "- Now we get the data set that have all columns needed for further analysis."
   ]
  },
  {
   "cell_type": "markdown",
   "id": "973b7ac1-fbe4-4991-a909-e38dacb5b9bf",
   "metadata": {},
   "source": [
    "#### 5) Handle NaN values"
   ]
  },
  {
   "cell_type": "markdown",
   "id": "13bace71-6fba-4803-828f-eb4b28869cba",
   "metadata": {},
   "source": [
    "As mentioned before, now we canfill nan value in column <strong>Finished Rides</strong> with <strong>0</strong>"
   ]
  },
  {
   "cell_type": "code",
   "execution_count": 50,
   "id": "e8882976-7dfa-4298-98ee-d230cfb94714",
   "metadata": {},
   "outputs": [],
   "source": [
    "data['Finished Rides'] = data['Finished Rides'].fillna(0)"
   ]
  },
  {
   "cell_type": "markdown",
   "id": "1a38f421-345c-4b3f-b874-aac2c2ccd297",
   "metadata": {},
   "source": [
    "- As metioned before,there is one missing row in <strong>H_OverviewSearch</strong> table needed to be handled.\n",
    "\n",
    "- After merging 2 tables, we find out that the data for date <strong>\"2016-12-07\" at 5 a.m (Wednesday)</strong> is missing. \n",
    "\n",
    "- There are many way to handle missing value like <strong>deleting Rows</strong>, <strong>assigning An Unique Category</strong> or <strong>replacing with Mean/Median/Mode</strong>.\n",
    "\n",
    "- In this case, the NaN value in date <strong>\"2016-12-07\" at 5 a.m </strong> will be fill in by the <strong>mean value</strong> calculated at <strong>5a.m every Wednesday</strong>. This could be a better method than removing the row.\n",
    "\n"
   ]
  },
  {
   "cell_type": "code",
   "execution_count": 51,
   "id": "1f23e4f9-1bdc-413f-82fc-08550175aeab",
   "metadata": {},
   "outputs": [
    {
     "data": {
      "text/html": [
       "<div>\n",
       "<style scoped>\n",
       "    .dataframe tbody tr th:only-of-type {\n",
       "        vertical-align: middle;\n",
       "    }\n",
       "\n",
       "    .dataframe tbody tr th {\n",
       "        vertical-align: top;\n",
       "    }\n",
       "\n",
       "    .dataframe thead th {\n",
       "        text-align: right;\n",
       "    }\n",
       "</style>\n",
       "<table border=\"1\" class=\"dataframe\">\n",
       "  <thead>\n",
       "    <tr style=\"text-align: right;\">\n",
       "      <th></th>\n",
       "      <th>Date</th>\n",
       "      <th>Month_of_year</th>\n",
       "      <th>Week_of_year</th>\n",
       "      <th>Day_of_week</th>\n",
       "      <th>Day_name</th>\n",
       "      <th>Hour_of_day</th>\n",
       "      <th>Active drivers</th>\n",
       "      <th>Online (h)</th>\n",
       "      <th>Has booking (h)</th>\n",
       "      <th>Waiting for booking (h)</th>\n",
       "      <th>Busy (h)</th>\n",
       "      <th>Hours per active driver</th>\n",
       "      <th>Rides per online hour</th>\n",
       "      <th>Finished Rides</th>\n",
       "      <th>People saw 0 cars (unique)</th>\n",
       "      <th>People saw +1 cars (unique)</th>\n",
       "      <th>Coverage Ratio (unique)</th>\n",
       "    </tr>\n",
       "  </thead>\n",
       "  <tbody>\n",
       "    <tr>\n",
       "      <th>282</th>\n",
       "      <td>2016-12-07 05:00:00</td>\n",
       "      <td>12</td>\n",
       "      <td>49</td>\n",
       "      <td>2</td>\n",
       "      <td>Wednesday</td>\n",
       "      <td>5</td>\n",
       "      <td>24</td>\n",
       "      <td>8</td>\n",
       "      <td>0</td>\n",
       "      <td>8</td>\n",
       "      <td>10</td>\n",
       "      <td>0.3</td>\n",
       "      <td>0.0</td>\n",
       "      <td>0.0</td>\n",
       "      <td>NaN</td>\n",
       "      <td>NaN</td>\n",
       "      <td>NaN</td>\n",
       "    </tr>\n",
       "  </tbody>\n",
       "</table>\n",
       "</div>"
      ],
      "text/plain": [
       "                   Date  Month_of_year  Week_of_year  Day_of_week   Day_name  \\\n",
       "282 2016-12-07 05:00:00             12            49            2  Wednesday   \n",
       "\n",
       "     Hour_of_day  Active drivers  Online (h)  Has booking (h)  \\\n",
       "282            5              24           8                0   \n",
       "\n",
       "     Waiting for booking (h)  Busy (h)  Hours per active driver  \\\n",
       "282                        8        10                      0.3   \n",
       "\n",
       "     Rides per online hour  Finished Rides  People saw 0 cars (unique)  \\\n",
       "282                    0.0             0.0                         NaN   \n",
       "\n",
       "     People saw +1 cars (unique)  Coverage Ratio (unique)  \n",
       "282                          NaN                      NaN  "
      ]
     },
     "execution_count": 51,
     "metadata": {},
     "output_type": "execute_result"
    }
   ],
   "source": [
    "# identify the row with null value\n",
    "data[data['People saw 0 cars (unique)'].isna()]"
   ]
  },
  {
   "cell_type": "code",
   "execution_count": 52,
   "id": "b14f03e6-9872-46eb-94aa-ca30b3642cb7",
   "metadata": {},
   "outputs": [],
   "source": [
    "# fill the NaN value with the mean value\n",
    "for i in range(-3,0):\n",
    "    a = round(data[(data['Hour_of_day'] == 5) & (data['Day_name'] == 'Wednesday')].iloc[:,i].mean())\n",
    "    data.iloc[:,i] = data.iloc[:,i].fillna(a)"
   ]
  },
  {
   "cell_type": "code",
   "execution_count": 53,
   "id": "30e9edfa-15a4-4b25-9a78-1c5194d55fba",
   "metadata": {},
   "outputs": [
    {
     "data": {
      "text/html": [
       "<div>\n",
       "<style scoped>\n",
       "    .dataframe tbody tr th:only-of-type {\n",
       "        vertical-align: middle;\n",
       "    }\n",
       "\n",
       "    .dataframe tbody tr th {\n",
       "        vertical-align: top;\n",
       "    }\n",
       "\n",
       "    .dataframe thead th {\n",
       "        text-align: right;\n",
       "    }\n",
       "</style>\n",
       "<table border=\"1\" class=\"dataframe\">\n",
       "  <thead>\n",
       "    <tr style=\"text-align: right;\">\n",
       "      <th></th>\n",
       "      <th>Date</th>\n",
       "      <th>Month_of_year</th>\n",
       "      <th>Week_of_year</th>\n",
       "      <th>Day_of_week</th>\n",
       "      <th>Day_name</th>\n",
       "      <th>Hour_of_day</th>\n",
       "      <th>Active drivers</th>\n",
       "      <th>Online (h)</th>\n",
       "      <th>Has booking (h)</th>\n",
       "      <th>Waiting for booking (h)</th>\n",
       "      <th>Busy (h)</th>\n",
       "      <th>Hours per active driver</th>\n",
       "      <th>Rides per online hour</th>\n",
       "      <th>Finished Rides</th>\n",
       "      <th>People saw 0 cars (unique)</th>\n",
       "      <th>People saw +1 cars (unique)</th>\n",
       "      <th>Coverage Ratio (unique)</th>\n",
       "    </tr>\n",
       "  </thead>\n",
       "  <tbody>\n",
       "    <tr>\n",
       "      <th>114</th>\n",
       "      <td>2016-12-14 05:00:00</td>\n",
       "      <td>12</td>\n",
       "      <td>50</td>\n",
       "      <td>2</td>\n",
       "      <td>Wednesday</td>\n",
       "      <td>5</td>\n",
       "      <td>17</td>\n",
       "      <td>6</td>\n",
       "      <td>0</td>\n",
       "      <td>6</td>\n",
       "      <td>6</td>\n",
       "      <td>0.4</td>\n",
       "      <td>0.00</td>\n",
       "      <td>0.0</td>\n",
       "      <td>2.0</td>\n",
       "      <td>3.0</td>\n",
       "      <td>60.0</td>\n",
       "    </tr>\n",
       "    <tr>\n",
       "      <th>282</th>\n",
       "      <td>2016-12-07 05:00:00</td>\n",
       "      <td>12</td>\n",
       "      <td>49</td>\n",
       "      <td>2</td>\n",
       "      <td>Wednesday</td>\n",
       "      <td>5</td>\n",
       "      <td>24</td>\n",
       "      <td>8</td>\n",
       "      <td>0</td>\n",
       "      <td>8</td>\n",
       "      <td>10</td>\n",
       "      <td>0.3</td>\n",
       "      <td>0.00</td>\n",
       "      <td>0.0</td>\n",
       "      <td>4.0</td>\n",
       "      <td>7.0</td>\n",
       "      <td>80.0</td>\n",
       "    </tr>\n",
       "    <tr>\n",
       "      <th>450</th>\n",
       "      <td>2016-11-30 05:00:00</td>\n",
       "      <td>11</td>\n",
       "      <td>48</td>\n",
       "      <td>2</td>\n",
       "      <td>Wednesday</td>\n",
       "      <td>5</td>\n",
       "      <td>34</td>\n",
       "      <td>13</td>\n",
       "      <td>3</td>\n",
       "      <td>9</td>\n",
       "      <td>9</td>\n",
       "      <td>0.4</td>\n",
       "      <td>0.31</td>\n",
       "      <td>4.0</td>\n",
       "      <td>13.0</td>\n",
       "      <td>20.0</td>\n",
       "      <td>61.0</td>\n",
       "    </tr>\n",
       "    <tr>\n",
       "      <th>618</th>\n",
       "      <td>2016-11-23 05:00:00</td>\n",
       "      <td>11</td>\n",
       "      <td>47</td>\n",
       "      <td>2</td>\n",
       "      <td>Wednesday</td>\n",
       "      <td>5</td>\n",
       "      <td>26</td>\n",
       "      <td>12</td>\n",
       "      <td>0</td>\n",
       "      <td>11</td>\n",
       "      <td>6</td>\n",
       "      <td>0.5</td>\n",
       "      <td>0.00</td>\n",
       "      <td>0.0</td>\n",
       "      <td>0.0</td>\n",
       "      <td>3.0</td>\n",
       "      <td>100.0</td>\n",
       "    </tr>\n",
       "    <tr>\n",
       "      <th>786</th>\n",
       "      <td>2016-11-16 05:00:00</td>\n",
       "      <td>11</td>\n",
       "      <td>46</td>\n",
       "      <td>2</td>\n",
       "      <td>Wednesday</td>\n",
       "      <td>5</td>\n",
       "      <td>25</td>\n",
       "      <td>9</td>\n",
       "      <td>0</td>\n",
       "      <td>9</td>\n",
       "      <td>11</td>\n",
       "      <td>0.4</td>\n",
       "      <td>0.00</td>\n",
       "      <td>0.0</td>\n",
       "      <td>0.0</td>\n",
       "      <td>2.0</td>\n",
       "      <td>100.0</td>\n",
       "    </tr>\n",
       "  </tbody>\n",
       "</table>\n",
       "</div>"
      ],
      "text/plain": [
       "                   Date  Month_of_year  Week_of_year  Day_of_week   Day_name  \\\n",
       "114 2016-12-14 05:00:00             12            50            2  Wednesday   \n",
       "282 2016-12-07 05:00:00             12            49            2  Wednesday   \n",
       "450 2016-11-30 05:00:00             11            48            2  Wednesday   \n",
       "618 2016-11-23 05:00:00             11            47            2  Wednesday   \n",
       "786 2016-11-16 05:00:00             11            46            2  Wednesday   \n",
       "\n",
       "     Hour_of_day  Active drivers  Online (h)  Has booking (h)  \\\n",
       "114            5              17           6                0   \n",
       "282            5              24           8                0   \n",
       "450            5              34          13                3   \n",
       "618            5              26          12                0   \n",
       "786            5              25           9                0   \n",
       "\n",
       "     Waiting for booking (h)  Busy (h)  Hours per active driver  \\\n",
       "114                        6         6                      0.4   \n",
       "282                        8        10                      0.3   \n",
       "450                        9         9                      0.4   \n",
       "618                       11         6                      0.5   \n",
       "786                        9        11                      0.4   \n",
       "\n",
       "     Rides per online hour  Finished Rides  People saw 0 cars (unique)  \\\n",
       "114                   0.00             0.0                         2.0   \n",
       "282                   0.00             0.0                         4.0   \n",
       "450                   0.31             4.0                        13.0   \n",
       "618                   0.00             0.0                         0.0   \n",
       "786                   0.00             0.0                         0.0   \n",
       "\n",
       "     People saw +1 cars (unique)  Coverage Ratio (unique)  \n",
       "114                          3.0                     60.0  \n",
       "282                          7.0                     80.0  \n",
       "450                         20.0                     61.0  \n",
       "618                          3.0                    100.0  \n",
       "786                          2.0                    100.0  "
      ]
     },
     "execution_count": 53,
     "metadata": {},
     "output_type": "execute_result"
    }
   ],
   "source": [
    "# check that the missing data is now fullfilled\n",
    "data[(data['Hour_of_day'] == 5) & (data['Day_name'] == 'Wednesday')]"
   ]
  },
  {
   "cell_type": "markdown",
   "id": "7f5d2ef8-0f9f-4613-b564-e14e943d4b2d",
   "metadata": {},
   "source": [
    "# Step 2: Define some key metrics"
   ]
  },
  {
   "cell_type": "markdown",
   "id": "cbac3ae5-13b9-40bb-b95e-73b33dff884a",
   "metadata": {},
   "source": [
    "#### 1) Interpret the data"
   ]
  },
  {
   "cell_type": "markdown",
   "id": "5ff2b427-5b18-4ecd-b8b3-31a89a217222",
   "metadata": {},
   "source": [
    "According to the details which go with the data set, it can be defined that:\n",
    "    <li>**Online (h)** – total supply hours that were available during the time period\n",
    "    <li>**Has booking (h)** – total hours during which drivers had a client booking (any state)\n",
    "    <li>**Waiting for booking (h)** – total hours which drivers spent waiting for booking\n",
    "    <li>**Busy (h)** – total hours which drivers were not available to take orders in\n"
   ]
  },
  {
   "cell_type": "markdown",
   "id": "9392a597-9fc0-41d3-9c75-3b2d2311635d",
   "metadata": {},
   "source": [
    "Actually, **Online** is equal to the sum of **Has booking** and **Waiting for booking**. However, when checking the data, the value of the **Online** column can be **equal or 1 hour greater/lower** than the sum of values of **Has booking** and **Waiting for booking** columns.\n",
    "        \n",
    "This could be because, when exporting data to CSV file, these numbers are ground up/down the nearest integer, leading to the inequation between the value of **Online** and the sum of the value of **Has booking** and **Waiting for booking**.\n",
    "        \n",
    "In the later part, **Has booking** will be used for calculating the Demand. To ensure the data unification, both columns **Has booking** and **Waiting for booking** should be used for further calculation."
   ]
  },
  {
   "cell_type": "markdown",
   "id": "56d0b889-c2fd-4370-aa02-29ddce9d68f2",
   "metadata": {},
   "source": [
    "#### 2) Calculate Demand and Supply"
   ]
  },
  {
   "cell_type": "markdown",
   "id": "bed9cc48-40f4-459e-b15c-ca0a88e1d73f",
   "metadata": {},
   "source": [
    "**Supply** is considered as a driver online hours which including time on a job (**Has booking**) and waiting time for a booking (**Waiting for booking**) \n",
    "\n",
    "**Demand** is considered as time customers on thier trips (**Has booking**) and time they can not search a driver  (**Busy**)\n",
    "\n",
    "**Demand supply gap** is the difference between **Demand** and **Supply**\n",
    "\n",
    "Therefore, Demand and Supply in this circumstance can be calculated as:<br>\n",
    "<li> Demand = [Has booking (h)] + [Busy (h)]\n",
    "\n",
    "<li> Supply = [Has booking (h)] + [Waiting for booking (h)]\n",
    "        \n",
    "<li> Demand supply gap = Demand - Supply"
   ]
  },
  {
   "cell_type": "markdown",
   "id": "9c11556c-24c0-457e-9797-88d9f622f174",
   "metadata": {},
   "source": [
    "# Step 3: Deep dive and answer questions"
   ]
  },
  {
   "cell_type": "code",
   "execution_count": 54,
   "id": "6d104dc3-3c0b-4dd2-96c8-1b46d73ae57f",
   "metadata": {},
   "outputs": [],
   "source": [
    "# calculate the Demand, Supply and Demand_supply_gap columns\n",
    "data['Demand'] = data['Has booking (h)'] + data['Busy (h)']\n",
    "data['Supply'] = data['Has booking (h)'] + data['Waiting for booking (h)']\n",
    "data['Demand_supply_gap'] = data['Busy (h)']-  data['Waiting for booking (h)']\n",
    "\n",
    "# pivot table to get the average gap group by Day_of_week and Hour_of_day\n",
    "Pivot_Gap = pd.pivot_table(data, values='Demand_supply_gap',columns='Day_of_week', index='Hour_of_day',\n",
    "                    aggfunc=np.average)"
   ]
  },
  {
   "cell_type": "markdown",
   "id": "b534bdf9-7578-414d-b0ab-aad3a590400a",
   "metadata": {},
   "source": [
    "#### 1)\tShow which 36 hours in a week are most undersupplied\n"
   ]
  },
  {
   "cell_type": "code",
   "execution_count": 56,
   "id": "aa4366d4-e664-448a-a539-f574f91bf494",
   "metadata": {},
   "outputs": [],
   "source": [
    "# calculate the average Demand_supply_gap group by Day_of_week, Day_name,Hour_of_day\n",
    "gap_by_day_hours = data.groupby(['Day_of_week','Day_name','Hour_of_day'], sort=True).agg({'Demand_supply_gap': ['mean']}).reset_index()\n",
    "gap_by_day_hours.columns = gap_by_day_hours.columns.droplevel(1)\n"
   ]
  },
  {
   "cell_type": "markdown",
   "id": "0a395836-c61b-416d-a095-e471c79a26f1",
   "metadata": {},
   "source": [
    "- **The table showing top 36 undersupplied hours**"
   ]
  },
  {
   "cell_type": "code",
   "execution_count": 58,
   "id": "1db86a0e-f64a-4399-87c3-e61dc2efab93",
   "metadata": {},
   "outputs": [
    {
     "name": "stdout",
     "output_type": "stream",
     "text": [
      "Top 36 undersupplied hours\n"
     ]
    },
    {
     "data": {
      "text/html": [
       "<div>\n",
       "<style scoped>\n",
       "    .dataframe tbody tr th:only-of-type {\n",
       "        vertical-align: middle;\n",
       "    }\n",
       "\n",
       "    .dataframe tbody tr th {\n",
       "        vertical-align: top;\n",
       "    }\n",
       "\n",
       "    .dataframe thead th {\n",
       "        text-align: right;\n",
       "    }\n",
       "</style>\n",
       "<table border=\"1\" class=\"dataframe\">\n",
       "  <thead>\n",
       "    <tr style=\"text-align: right;\">\n",
       "      <th></th>\n",
       "      <th>Day_of_week</th>\n",
       "      <th>Day_name</th>\n",
       "      <th>Hour_of_day</th>\n",
       "      <th>Demand_supply_gap</th>\n",
       "    </tr>\n",
       "  </thead>\n",
       "  <tbody>\n",
       "    <tr>\n",
       "      <th>90</th>\n",
       "      <td>3</td>\n",
       "      <td>Thursday</td>\n",
       "      <td>18</td>\n",
       "      <td>8.8</td>\n",
       "    </tr>\n",
       "    <tr>\n",
       "      <th>66</th>\n",
       "      <td>2</td>\n",
       "      <td>Wednesday</td>\n",
       "      <td>18</td>\n",
       "      <td>8.6</td>\n",
       "    </tr>\n",
       "    <tr>\n",
       "      <th>42</th>\n",
       "      <td>1</td>\n",
       "      <td>Tuesday</td>\n",
       "      <td>18</td>\n",
       "      <td>7.0</td>\n",
       "    </tr>\n",
       "    <tr>\n",
       "      <th>89</th>\n",
       "      <td>3</td>\n",
       "      <td>Thursday</td>\n",
       "      <td>17</td>\n",
       "      <td>6.8</td>\n",
       "    </tr>\n",
       "    <tr>\n",
       "      <th>18</th>\n",
       "      <td>0</td>\n",
       "      <td>Monday</td>\n",
       "      <td>18</td>\n",
       "      <td>5.8</td>\n",
       "    </tr>\n",
       "    <tr>\n",
       "      <th>91</th>\n",
       "      <td>3</td>\n",
       "      <td>Thursday</td>\n",
       "      <td>19</td>\n",
       "      <td>4.6</td>\n",
       "    </tr>\n",
       "    <tr>\n",
       "      <th>67</th>\n",
       "      <td>2</td>\n",
       "      <td>Wednesday</td>\n",
       "      <td>19</td>\n",
       "      <td>4.0</td>\n",
       "    </tr>\n",
       "    <tr>\n",
       "      <th>8</th>\n",
       "      <td>0</td>\n",
       "      <td>Monday</td>\n",
       "      <td>8</td>\n",
       "      <td>3.8</td>\n",
       "    </tr>\n",
       "    <tr>\n",
       "      <th>9</th>\n",
       "      <td>0</td>\n",
       "      <td>Monday</td>\n",
       "      <td>9</td>\n",
       "      <td>3.8</td>\n",
       "    </tr>\n",
       "    <tr>\n",
       "      <th>152</th>\n",
       "      <td>6</td>\n",
       "      <td>Sunday</td>\n",
       "      <td>8</td>\n",
       "      <td>3.4</td>\n",
       "    </tr>\n",
       "    <tr>\n",
       "      <th>104</th>\n",
       "      <td>4</td>\n",
       "      <td>Friday</td>\n",
       "      <td>8</td>\n",
       "      <td>2.8</td>\n",
       "    </tr>\n",
       "    <tr>\n",
       "      <th>43</th>\n",
       "      <td>1</td>\n",
       "      <td>Tuesday</td>\n",
       "      <td>19</td>\n",
       "      <td>2.6</td>\n",
       "    </tr>\n",
       "    <tr>\n",
       "      <th>148</th>\n",
       "      <td>6</td>\n",
       "      <td>Sunday</td>\n",
       "      <td>4</td>\n",
       "      <td>2.6</td>\n",
       "    </tr>\n",
       "    <tr>\n",
       "      <th>57</th>\n",
       "      <td>2</td>\n",
       "      <td>Wednesday</td>\n",
       "      <td>9</td>\n",
       "      <td>2.6</td>\n",
       "    </tr>\n",
       "    <tr>\n",
       "      <th>100</th>\n",
       "      <td>4</td>\n",
       "      <td>Friday</td>\n",
       "      <td>4</td>\n",
       "      <td>2.4</td>\n",
       "    </tr>\n",
       "    <tr>\n",
       "      <th>124</th>\n",
       "      <td>5</td>\n",
       "      <td>Saturday</td>\n",
       "      <td>4</td>\n",
       "      <td>2.4</td>\n",
       "    </tr>\n",
       "    <tr>\n",
       "      <th>33</th>\n",
       "      <td>1</td>\n",
       "      <td>Tuesday</td>\n",
       "      <td>9</td>\n",
       "      <td>2.4</td>\n",
       "    </tr>\n",
       "    <tr>\n",
       "      <th>110</th>\n",
       "      <td>4</td>\n",
       "      <td>Friday</td>\n",
       "      <td>14</td>\n",
       "      <td>2.2</td>\n",
       "    </tr>\n",
       "    <tr>\n",
       "      <th>38</th>\n",
       "      <td>1</td>\n",
       "      <td>Tuesday</td>\n",
       "      <td>14</td>\n",
       "      <td>2.0</td>\n",
       "    </tr>\n",
       "    <tr>\n",
       "      <th>109</th>\n",
       "      <td>4</td>\n",
       "      <td>Friday</td>\n",
       "      <td>13</td>\n",
       "      <td>2.0</td>\n",
       "    </tr>\n",
       "    <tr>\n",
       "      <th>80</th>\n",
       "      <td>3</td>\n",
       "      <td>Thursday</td>\n",
       "      <td>8</td>\n",
       "      <td>2.0</td>\n",
       "    </tr>\n",
       "    <tr>\n",
       "      <th>61</th>\n",
       "      <td>2</td>\n",
       "      <td>Wednesday</td>\n",
       "      <td>13</td>\n",
       "      <td>1.8</td>\n",
       "    </tr>\n",
       "    <tr>\n",
       "      <th>123</th>\n",
       "      <td>5</td>\n",
       "      <td>Saturday</td>\n",
       "      <td>3</td>\n",
       "      <td>1.6</td>\n",
       "    </tr>\n",
       "    <tr>\n",
       "      <th>75</th>\n",
       "      <td>3</td>\n",
       "      <td>Thursday</td>\n",
       "      <td>3</td>\n",
       "      <td>1.6</td>\n",
       "    </tr>\n",
       "    <tr>\n",
       "      <th>111</th>\n",
       "      <td>4</td>\n",
       "      <td>Friday</td>\n",
       "      <td>15</td>\n",
       "      <td>1.6</td>\n",
       "    </tr>\n",
       "    <tr>\n",
       "      <th>105</th>\n",
       "      <td>4</td>\n",
       "      <td>Friday</td>\n",
       "      <td>9</td>\n",
       "      <td>1.6</td>\n",
       "    </tr>\n",
       "    <tr>\n",
       "      <th>32</th>\n",
       "      <td>1</td>\n",
       "      <td>Tuesday</td>\n",
       "      <td>8</td>\n",
       "      <td>1.4</td>\n",
       "    </tr>\n",
       "    <tr>\n",
       "      <th>7</th>\n",
       "      <td>0</td>\n",
       "      <td>Monday</td>\n",
       "      <td>7</td>\n",
       "      <td>1.2</td>\n",
       "    </tr>\n",
       "    <tr>\n",
       "      <th>88</th>\n",
       "      <td>3</td>\n",
       "      <td>Thursday</td>\n",
       "      <td>16</td>\n",
       "      <td>1.2</td>\n",
       "    </tr>\n",
       "    <tr>\n",
       "      <th>102</th>\n",
       "      <td>4</td>\n",
       "      <td>Friday</td>\n",
       "      <td>6</td>\n",
       "      <td>1.2</td>\n",
       "    </tr>\n",
       "    <tr>\n",
       "      <th>95</th>\n",
       "      <td>3</td>\n",
       "      <td>Thursday</td>\n",
       "      <td>23</td>\n",
       "      <td>1.0</td>\n",
       "    </tr>\n",
       "    <tr>\n",
       "      <th>96</th>\n",
       "      <td>4</td>\n",
       "      <td>Friday</td>\n",
       "      <td>0</td>\n",
       "      <td>0.8</td>\n",
       "    </tr>\n",
       "    <tr>\n",
       "      <th>76</th>\n",
       "      <td>3</td>\n",
       "      <td>Thursday</td>\n",
       "      <td>4</td>\n",
       "      <td>0.8</td>\n",
       "    </tr>\n",
       "    <tr>\n",
       "      <th>103</th>\n",
       "      <td>4</td>\n",
       "      <td>Friday</td>\n",
       "      <td>7</td>\n",
       "      <td>0.8</td>\n",
       "    </tr>\n",
       "    <tr>\n",
       "      <th>149</th>\n",
       "      <td>6</td>\n",
       "      <td>Sunday</td>\n",
       "      <td>5</td>\n",
       "      <td>0.8</td>\n",
       "    </tr>\n",
       "    <tr>\n",
       "      <th>150</th>\n",
       "      <td>6</td>\n",
       "      <td>Sunday</td>\n",
       "      <td>6</td>\n",
       "      <td>0.8</td>\n",
       "    </tr>\n",
       "    <tr>\n",
       "      <th>5</th>\n",
       "      <td>0</td>\n",
       "      <td>Monday</td>\n",
       "      <td>5</td>\n",
       "      <td>0.8</td>\n",
       "    </tr>\n",
       "  </tbody>\n",
       "</table>\n",
       "</div>"
      ],
      "text/plain": [
       "     Day_of_week   Day_name  Hour_of_day  Demand_supply_gap\n",
       "90             3   Thursday           18                8.8\n",
       "66             2  Wednesday           18                8.6\n",
       "42             1    Tuesday           18                7.0\n",
       "89             3   Thursday           17                6.8\n",
       "18             0     Monday           18                5.8\n",
       "91             3   Thursday           19                4.6\n",
       "67             2  Wednesday           19                4.0\n",
       "8              0     Monday            8                3.8\n",
       "9              0     Monday            9                3.8\n",
       "152            6     Sunday            8                3.4\n",
       "104            4     Friday            8                2.8\n",
       "43             1    Tuesday           19                2.6\n",
       "148            6     Sunday            4                2.6\n",
       "57             2  Wednesday            9                2.6\n",
       "100            4     Friday            4                2.4\n",
       "124            5   Saturday            4                2.4\n",
       "33             1    Tuesday            9                2.4\n",
       "110            4     Friday           14                2.2\n",
       "38             1    Tuesday           14                2.0\n",
       "109            4     Friday           13                2.0\n",
       "80             3   Thursday            8                2.0\n",
       "61             2  Wednesday           13                1.8\n",
       "123            5   Saturday            3                1.6\n",
       "75             3   Thursday            3                1.6\n",
       "111            4     Friday           15                1.6\n",
       "105            4     Friday            9                1.6\n",
       "32             1    Tuesday            8                1.4\n",
       "7              0     Monday            7                1.2\n",
       "88             3   Thursday           16                1.2\n",
       "102            4     Friday            6                1.2\n",
       "95             3   Thursday           23                1.0\n",
       "96             4     Friday            0                0.8\n",
       "76             3   Thursday            4                0.8\n",
       "103            4     Friday            7                0.8\n",
       "149            6     Sunday            5                0.8\n",
       "150            6     Sunday            6                0.8\n",
       "5              0     Monday            5                0.8"
      ]
     },
     "execution_count": 58,
     "metadata": {},
     "output_type": "execute_result"
    }
   ],
   "source": [
    "# top 36 hour\n",
    "top_36_hours = gap_by_day_hours.sort_values(by ='Demand_supply_gap',ascending=False).nlargest(36,'Demand_supply_gap',keep='all')\n",
    "print('Top 36 undersupplied hours')\n",
    "top_36_hours"
   ]
  },
  {
   "cell_type": "markdown",
   "id": "14fb614e-d2a1-4284-9b79-d0715261a758",
   "metadata": {},
   "source": [
    "- **Visualize top 36 hour with the highest demand and supply gap**\n"
   ]
  },
  {
   "cell_type": "code",
   "execution_count": 61,
   "id": "4f47138f-35d0-4607-a0ba-d2148ec56aa4",
   "metadata": {},
   "outputs": [
    {
     "data": {
      "text/plain": [
       "Text(60.0, 0.5, 'Hour of day')"
      ]
     },
     "execution_count": 61,
     "metadata": {},
     "output_type": "execute_result"
    },
    {
     "data": {
      "image/png": "[encoded data removed]",
      "text/plain": [
       "<Figure size 648x504 with 2 Axes>"
      ]
     },
     "metadata": {
      "needs_background": "light"
     },
     "output_type": "display_data"
    }
   ],
   "source": [
    "\n",
    "# create pivot table for visualization\n",
    "gap_by_day_hours_pivot = gap_by_day_hours.pivot(index ='Hour_of_day', columns ='Day_of_week', values ='Demand_supply_gap')\\\n",
    "                        .sort_values(by ='Hour_of_day',ascending=False)\n",
    "\n",
    "\n",
    "# Default heatmap\n",
    "fig, ax = plt.subplots(figsize=(9, 7))\n",
    "\n",
    "title = 'Demand and supply gap'\n",
    "plt.title(title, fontsize=12,\n",
    "          backgroundcolor='White',\n",
    "          color='Green')\n",
    "\n",
    "\n",
    "p1 = sns.heatmap(gap_by_day_hours_pivot, cmap=\"Blues\",linewidths=.5,linecolor='white',vmin=.6, vmax=9, annot=True)\n",
    "\n",
    "plt.xlabel('Day of week (Mon:0 -> Sun:6)', fontsize = 8) \n",
    "plt.ylabel('Hour of day', fontsize = 8)"
   ]
  },
  {
   "cell_type": "markdown",
   "id": "151c8d9b-befb-4bc8-918e-5d0aa751fd32",
   "metadata": {},
   "source": [
    "It is clear that the **Demand_supply_gap** was high in a time of **peak hour**. \n",
    "36 hours with the most undersupplied are allocated mostly in the peak hours. In more detail:\n",
    "\n",
    "**Weekdays:**\n",
    "\n",
    "- Weekday morning peak hour 7 am – 9 am.\n",
    "\n",
    "- Weekday evening peak hour 5 pm - 7 pm. \n",
    "\n",
    "Usually, most organizations’ work hours start between 8 am and 9 am and end between 5 PM - 6 PM. Therefore, during the weekday, demand is higher during these times as people commute to work or go back to home. However, on Friday, people leave companies early, leading to higher demand from 1 pm to 3 pm.\n",
    "\n",
    "**Weekends:**\n",
    "\n",
    "- Friday, Saturday, and Sunday: 3 am – 4 am.\n",
    "\n",
    "- Sunday 8 am.\n",
    "\n",
    "It is interesting that people have higher demand on weekends from 3 am and 4 am. It could be because of the nightlife. For example, people can go to their favorite bars without driving themselves. There are no worries about drunk driving dangers. Hence, booking a car is better than self-driving. \n",
    "\n",
    "Also, on Sunday, around 8 am, the demand is also high. There are many reasons for this trend. This could be because people need to leave the city after their visit or people need a ride to visit their parents, friends, so on. More data need to be collected to prove the hypothesis.\n"
   ]
  },
  {
   "cell_type": "markdown",
   "id": "181205d9-c18a-48fc-a148-3e2a0d723278",
   "metadata": {},
   "source": [
    "#### 2)\tThe 24-hour curve of average supply and demand (to illustrate match/mismatch).\n"
   ]
  },
  {
   "cell_type": "code",
   "execution_count": 62,
   "id": "8cb9c1ac-94c2-48d8-a6ec-09c62b0618bd",
   "metadata": {},
   "outputs": [],
   "source": [
    "# create supply and demand data\n",
    "demand_suply = data[['Hour_of_day','Supply','Demand']]\n",
    "\n",
    "# calculate average of demnand and supply by hours\n",
    "demand_suply_by_hour = data.groupby('Hour_of_day', sort=True).agg({'Demand': ['mean'],'Supply':['mean']}).reset_index()\n",
    "demand_suply_by_hour.columns = demand_suply_by_hour.columns.droplevel(1)\n",
    "demand_suply_by_hour= demand_suply_by_hour.set_index('Hour_of_day')\n",
    "\n"
   ]
  },
  {
   "cell_type": "code",
   "execution_count": 67,
   "id": "cafdd29e-9a56-4862-8e6c-de55e58a6115",
   "metadata": {},
   "outputs": [
    {
     "data": {
      "image/png": "[encoded data removed]",
      "text/plain": [
       "<Figure size 648x504 with 1 Axes>"
      ]
     },
     "metadata": {
      "needs_background": "light"
     },
     "output_type": "display_data"
    }
   ],
   "source": [
    "# visualize data\n",
    "fig, ax = plt.subplots(figsize=(9, 7))\n",
    "\n",
    "title = 'Supply and Demand by hour'\n",
    "plt.title(title, fontsize=10,\n",
    "          backgroundcolor='White',\n",
    "          color='Green')\n",
    "ax.set_xticks(range(len(demand_suply_by_hour)))\n",
    "\n",
    "lp = sns.lineplot(data=demand_suply_by_hour, palette='dark:#5A15')\n",
    "lp.legend(loc='upper right', bbox_to_anchor=(1.2, 1))\n",
    "plt.axvline(x = 3, color = '#9c9c9c',linestyle =\"--\")\n",
    "plt.axvline(x = 5, color = '#9c9c9c',linestyle =\"--\")\n",
    "plt.axvline(x = 7, color = '#C1CDCD',linestyle =\"--\")\n",
    "plt.axvline(x = 9, color = '#C1CDCD',linestyle =\"--\")\n",
    "plt.axvline(x = 17, color = '#C1CDCD',linestyle =\"--\")\n",
    "plt.axvline(x = 19, color = '#C1CDCD',linestyle =\"--\")\n",
    "\n",
    "plt.show()"
   ]
  },
  {
   "cell_type": "markdown",
   "id": "ff3981a7-a156-4b9a-ae73-46f9efae25f3",
   "metadata": {},
   "source": [
    "As can be seen from the line chart above, there are some hours during that the demand is over the supply.\n",
    "\n",
    "- **Morning Rush (7 am to 9 am):** the time when people commute to work. So, the number of bookings is over the supply capacity.\n",
    "\n",
    "- **Back to Home (5 pm to 7 pm):** people leave work between the hours of 5 pm - 7 pm, the demand surge during this period.\n",
    "\n",
    "- **Afterparty (3 am to 5 am):** there is a time in the early morning that people book more trips than the supply capacity. This can be explained by looking at the figure in **Question 1** which shows people have a high tendency to use the service on weekends.\n",
    "\n",
    "Overall, the gap between supply and demand by **hours in a day** also shares the same trend with the supply and demand gap by **hours and day of week** in **questions 1**, which is always undersupplied during peak hour.\n",
    "\n",
    "On the other hand, the supply is much higher than the demand from **10 am to 5 pm** and from **7 pm to 11 pm**. This could be because the demand is not high during these hours, or the number of active drivers is high. The last part of this analysis will answer this question."
   ]
  },
  {
   "cell_type": "markdown",
   "id": "80142e20-017e-4b55-abb6-2e6552d7cb70",
   "metadata": {},
   "source": [
    "#### 3.\tVisualization of hours where we lack supply during a weekly period. This one we can send to drivers to show when to online for extra hours."
   ]
  },
  {
   "cell_type": "markdown",
   "id": "94cbaf5d-7cb2-4f53-ab14-6963dc78ee7e",
   "metadata": {},
   "source": [
    "Actually, the chart from question 1 can be reused to answer this question. But it needs to be modified **the values to anchor the colormap**, which will be range from 0 to 2. It can highlight the hours that need more drivers, helping the driver easy to interpret the chart. \n",
    "\n",
    "Also, **color** is switched to **Bolt color**."
   ]
  },
  {
   "cell_type": "code",
   "execution_count": 70,
   "id": "1a9ff617-c475-44f5-90ca-16540c96ef89",
   "metadata": {
    "tags": []
   },
   "outputs": [
    {
     "data": {
      "text/plain": [
       "Text(60.0, 0.5, 'Hour of day')"
      ]
     },
     "execution_count": 70,
     "metadata": {},
     "output_type": "execute_result"
    },
    {
     "data": {
      "image/png": "[encoded data removed]",
      "text/plain": [
       "<Figure size 648x504 with 1 Axes>"
      ]
     },
     "metadata": {
      "needs_background": "light"
     },
     "output_type": "display_data"
    }
   ],
   "source": [
    "# Default heatmap\n",
    "fig, ax = plt.subplots(figsize=(9, 7))\n",
    "\n",
    "title = 'Recommend hours for drivers in a week (The darker green, the more demand)'\n",
    "ax.set_title(title,fontsize=13,\n",
    "          backgroundcolor='White',\n",
    "          color='Red')\n",
    "\n",
    "\n",
    "p1 = sns.heatmap(gap_by_day_hours_pivot, cmap=\"Greens\",linewidths=.5,linecolor='white', annot_kws={'fontsize':8},vmin=0,cbar=False,\n",
    "                vmax=2)\n",
    "\n",
    "plt.xlabel('Day of week (Mon:0 -> Sun:6)', fontsize = 8) \n",
    "plt.ylabel('Hour of day', fontsize = 8)"
   ]
  },
  {
   "cell_type": "markdown",
   "id": "7722e237-1281-4b60-991d-e36369d4b537",
   "metadata": {},
   "source": [
    "#### 4)\tEstimate the number of hours needed to ensure we have a high Coverage Ratio during most peak hours."
   ]
  },
  {
   "cell_type": "markdown",
   "id": "5f4e2b45-d528-4e8d-a1ea-9be0d1e1d864",
   "metadata": {},
   "source": [
    "The Coverage Ratio can be calculated base on the number of people saw 0 car and saw +1 car. \n",
    "\n",
    "- **Coverage Ratio** = [People saw +1 cars] / sum( [People saw 0 cars],[People saw +1 cars] )\n",
    "\n",
    "**Coverage Ratio** is based on the number of unique people. However, it needs to calculate the number of hours to ensure a high **Coverage Ratio** during most peak hours. Therefore, to solve this problem, it is necessary to find out the relationship between the number of hours (**the demand and supply gap**) and **Coverage Ratio**\n",
    "\n",
    "It can be hypothesized that the relationship between **The Coverage Ratio** and **The Demand and Supply Gap** is a negative relationship. The regression model can be applied here to find out the parameters that can present the relationship between 2 variables."
   ]
  },
  {
   "cell_type": "markdown",
   "id": "2090fd17-27c9-4dd4-b569-8aeca3e36b71",
   "metadata": {},
   "source": [
    "**The scatter chart** below illustrates the relationship between **The Coverage Ratio** and **The Demand and Supply Gap**.\n",
    "\n"
   ]
  },
  {
   "cell_type": "code",
   "execution_count": 73,
   "id": "062a8bcf-aadf-4aca-839d-6a5a6b50f6e2",
   "metadata": {},
   "outputs": [
    {
     "data": {
      "text/plain": [
       "<matplotlib.collections.PathCollection at 0x7fb0e5d9c8b0>"
      ]
     },
     "execution_count": 73,
     "metadata": {},
     "output_type": "execute_result"
    },
    {
     "data": {
      "image/png": "[encoded data removed]",
      "text/plain": [
       "<Figure size 432x288 with 1 Axes>"
      ]
     },
     "metadata": {
      "needs_background": "light"
     },
     "output_type": "display_data"
    }
   ],
   "source": [
    "data['Coverage Ratio']= data['People saw +1 cars (unique)']/(data['People saw 0 cars (unique)'] + data['People saw +1 cars (unique)'])\n",
    "%matplotlib inline\n",
    "plt.xlabel('Coverage Ratio')\n",
    "plt.ylabel('Demand Supply Gap')\n",
    "plt.scatter(data[['Coverage Ratio']],data[['Demand_supply_gap']],color='green',marker='+')"
   ]
  },
  {
   "cell_type": "markdown",
   "id": "bd304521-cfe9-4250-93cf-adb8ed488cbc",
   "metadata": {},
   "source": [
    "- When **the demand and supply gap** is under 0, **The Coverage Ratio** usually be higher than 60%. \n",
    "\n",
    "- Next, find a model that can fit the data. In this case, polynomial regression will be used to find a curve that fit the dataset.\n"
   ]
  },
  {
   "cell_type": "code",
   "execution_count": 74,
   "id": "e7dddd92-6239-4cda-9ba5-087479e97932",
   "metadata": {},
   "outputs": [],
   "source": [
    "# import libaries\n",
    "from sklearn.preprocessing import PolynomialFeatures\n",
    "from sklearn.linear_model import LinearRegression\n",
    "from sklearn import metrics\n",
    "\n",
    "# polynomial regression degree = 1\n",
    "poly = PolynomialFeatures(degree=2, include_bias=False)\n",
    "# , include_bias=False"
   ]
  },
  {
   "cell_type": "code",
   "execution_count": 75,
   "id": "bb711873-2b9e-4994-a7d8-3dadb71fd532",
   "metadata": {},
   "outputs": [],
   "source": [
    "poly_features = poly.fit_transform(data[['Coverage Ratio']])\n",
    "poly_reg_model = LinearRegression()\n",
    "poly_reg_model.fit(poly_features, data[['Demand_supply_gap']])\n",
    "y_predicted = poly_reg_model.predict(poly_features)\n"
   ]
  },
  {
   "cell_type": "code",
   "execution_count": 77,
   "id": "14286e2a-2ca8-42cb-9e9d-d4331b2ed60d",
   "metadata": {},
   "outputs": [
    {
     "data": {
      "image/png": "[encoded data removed]",
      "text/plain": [
       "<Figure size 720x432 with 1 Axes>"
      ]
     },
     "metadata": {
      "needs_background": "light"
     },
     "output_type": "display_data"
    }
   ],
   "source": [
    "plt.figure(figsize=(10, 6))\n",
    "plt.title(\"Polynomial regression\", size=16)\n",
    "plt.scatter(data[['Coverage Ratio']], data[['Demand_supply_gap']])\n",
    "plt.scatter(data[['Coverage Ratio']], y_predicted, c=\"red\")\n",
    "plt.xlabel('Coverage Ratio')\n",
    "plt.ylabel('Demand Supply Gap')\n",
    "plt.show()"
   ]
  },
  {
   "cell_type": "code",
   "execution_count": 78,
   "id": "5804a6c4-a828-4369-90fa-4cfa70419922",
   "metadata": {},
   "outputs": [],
   "source": [
    "y_actual = np.array(list(data['Demand_supply_gap']))\n",
    "y_pred = np.array(y_predicted)"
   ]
  },
  {
   "cell_type": "code",
   "execution_count": 79,
   "id": "0f8b81ed-db77-46c5-9a0b-251923e86bb1",
   "metadata": {},
   "outputs": [
    {
     "name": "stdout",
     "output_type": "stream",
     "text": [
      "Root Mean Squared Error: 5.904837665059348\n",
      "R Squared: 0.3194891259811389\n"
     ]
    }
   ],
   "source": [
    "print('Root Mean Squared Error:', np.sqrt(metrics.mean_squared_error(y_actual, y_pred)))\n",
    "print('R Squared:', metrics.r2_score(y_actual, y_pred))"
   ]
  },
  {
   "cell_type": "markdown",
   "id": "107d19a0-5ff8-43d8-8924-d3986cc01ad7",
   "metadata": {},
   "source": [
    "With **Root Mean Squared Error** is about 5.9 and **R Square** is around 0.32, it is not a good model that can explain the relationship between **Demand supply gap** and **Coverage Ratio**. However, with the limitation of the dataset in these circumstances. The model is acceptable."
   ]
  },
  {
   "cell_type": "markdown",
   "id": "b77a1557-1a00-4125-8588-54169bf6c796",
   "metadata": {},
   "source": [
    "- Final polynomial model: "
   ]
  },
  {
   "cell_type": "code",
   "execution_count": 82,
   "id": "548243ae-a193-4580-9619-26fd33f81110",
   "metadata": {},
   "outputs": [
    {
     "name": "stdout",
     "output_type": "stream",
     "text": [
      "Demand_supply_gap=  -42.00359290993346 * (Coverage Ratio)^2  36.007141083571824 * (Coverage Ratio)  -3.426853331183338\n"
     ]
    }
   ],
   "source": [
    "print('Demand_supply_gap= ',str(poly_reg_model.coef_ [0,1]),'* (Coverage Ratio)^2 ', poly_reg_model.coef_ [0,0],'* (Coverage Ratio) ',str(poly_reg_model.intercept_[0]))"
   ]
  },
  {
   "cell_type": "markdown",
   "id": "c1a73bf9-f0b8-4710-9ac5-710e64d1bfb0",
   "metadata": {},
   "source": [
    "The result from question 1 shows that **36 hours with the most undersupplied are allocated mostly in the peak hours**. In order to estimate the number of hours needed to ensure we have a high Coverage Ratio during most peak hours, these **36 hours** need to have 100% Coverage Ratio.\n",
    "\n",
    "Firstly, calculating how many hours to get the cover ratio of 100%. Then multiply that number with 36 peak-hour periods."
   ]
  },
  {
   "cell_type": "code",
   "execution_count": 85,
   "id": "04f5a68f-55ca-4444-b399-5a15131c5e64",
   "metadata": {},
   "outputs": [
    {
     "name": "stdout",
     "output_type": "stream",
     "text": [
      "Total hours that needed to have highest coverage ratio among top 36 most peak hour based on the polynomial model: 339 hours\n"
     ]
    }
   ],
   "source": [
    "# with cover ratio is 100%\n",
    "a = poly_reg_model.coef_ [0,1]*((1)**2) + poly_reg_model.coef_ [0,0]*(1) + poly_reg_model.intercept_\n",
    "\n",
    "print('Total hours that needed to have highest coverage ratio among top 36 most peak hour based on the polynomial model:',\\\n",
    "      round(abs(a[0]*36)), 'hours')\n"
   ]
  },
  {
   "cell_type": "markdown",
   "id": "831ac8d4-6fb2-4281-bd13-f33361178b07",
   "metadata": {},
   "source": [
    "#### 5)\tCalculate levels of guaranteed hourly earnings we can offer to drivers during 36 weekly hours with the highest demand without losing money + how many extra hours we want to get to capture missed demand."
   ]
  },
  {
   "cell_type": "markdown",
   "id": "75b792e9-87d6-4b67-a978-5e08c18d0644",
   "metadata": {},
   "source": [
    "**Calculate RPH for each hour that ensure the hourly earnings we can offer to drivers during 36 weekly hours with the highest demand without losing money**"
   ]
  },
  {
   "cell_type": "code",
   "execution_count": 89,
   "id": "98a90f47-58c9-4fe6-81c6-4527e97558e8",
   "metadata": {},
   "outputs": [],
   "source": [
    "# calculate the average RPH group by Day_of_week, Day_name, Hour_of_day\n",
    "RPH_by_day_hours = data.groupby(['Hour_of_day','Day_of_week','Day_name'], sort=True).agg({'Rides per online hour': ['mean']}).reset_index()\n",
    "RPH_by_day_hours.columns = RPH_by_day_hours.columns.droplevel(1)\n",
    "\n",
    "# create pivot table for calculation and visualization\n",
    "RPH_by_day_hours_pivot = RPH_by_day_hours.pivot(index ='Hour_of_day', columns ='Day_of_week', values ='Rides per online hour')\\\n",
    "                        .sort_values(by ='Hour_of_day',ascending=False)"
   ]
  },
  {
   "cell_type": "markdown",
   "id": "4925cd54-d6d1-41dc-8974-d58c562dba7c",
   "metadata": {},
   "source": [
    "**Calculate the min RPH base on RPH over 3 hour periods**"
   ]
  },
  {
   "cell_type": "code",
   "execution_count": 90,
   "id": "e2a8f8a6-f83c-41fb-9ca8-f280561ab59c",
   "metadata": {},
   "outputs": [],
   "source": [
    "# Rolling in 3 hours periods to get the min RPH\n",
    "for i in range(0,7):\n",
    "    s = RPH_by_day_hours_pivot[i].rolling(3,min_periods=1).min()\n",
    "    RPH_by_day_hours_pivot['min RPH ' + str(i)] = s\n"
   ]
  },
  {
   "cell_type": "markdown",
   "id": "4d8ac67f-a273-492c-9443-42df21dc68c7",
   "metadata": {},
   "source": [
    "**Now, we have table with min RPH base on 3 hours period.**\n"
   ]
  },
  {
   "cell_type": "code",
   "execution_count": 91,
   "id": "da86b76c-4e0e-4aec-93b4-ce0de9024b5f",
   "metadata": {},
   "outputs": [
    {
     "data": {
      "text/html": [
       "<div>\n",
       "<style scoped>\n",
       "    .dataframe tbody tr th:only-of-type {\n",
       "        vertical-align: middle;\n",
       "    }\n",
       "\n",
       "    .dataframe tbody tr th {\n",
       "        vertical-align: top;\n",
       "    }\n",
       "\n",
       "    .dataframe thead th {\n",
       "        text-align: right;\n",
       "    }\n",
       "</style>\n",
       "<table border=\"1\" class=\"dataframe\">\n",
       "  <thead>\n",
       "    <tr style=\"text-align: right;\">\n",
       "      <th>Day_of_week</th>\n",
       "      <th>0</th>\n",
       "      <th>1</th>\n",
       "      <th>2</th>\n",
       "      <th>3</th>\n",
       "      <th>4</th>\n",
       "      <th>5</th>\n",
       "      <th>6</th>\n",
       "      <th>min RPH 0</th>\n",
       "      <th>min RPH 1</th>\n",
       "      <th>min RPH 2</th>\n",
       "      <th>min RPH 3</th>\n",
       "      <th>min RPH 4</th>\n",
       "      <th>min RPH 5</th>\n",
       "      <th>min RPH 6</th>\n",
       "    </tr>\n",
       "    <tr>\n",
       "      <th>Hour_of_day</th>\n",
       "      <th></th>\n",
       "      <th></th>\n",
       "      <th></th>\n",
       "      <th></th>\n",
       "      <th></th>\n",
       "      <th></th>\n",
       "      <th></th>\n",
       "      <th></th>\n",
       "      <th></th>\n",
       "      <th></th>\n",
       "      <th></th>\n",
       "      <th></th>\n",
       "      <th></th>\n",
       "      <th></th>\n",
       "    </tr>\n",
       "  </thead>\n",
       "  <tbody>\n",
       "    <tr>\n",
       "      <th>23</th>\n",
       "      <td>0.534</td>\n",
       "      <td>0.790</td>\n",
       "      <td>1.042</td>\n",
       "      <td>1.042</td>\n",
       "      <td>0.722</td>\n",
       "      <td>0.636</td>\n",
       "      <td>0.718</td>\n",
       "      <td>0.534</td>\n",
       "      <td>0.790</td>\n",
       "      <td>1.042</td>\n",
       "      <td>1.042</td>\n",
       "      <td>0.722</td>\n",
       "      <td>0.636</td>\n",
       "      <td>0.718</td>\n",
       "    </tr>\n",
       "    <tr>\n",
       "      <th>22</th>\n",
       "      <td>0.542</td>\n",
       "      <td>0.696</td>\n",
       "      <td>0.822</td>\n",
       "      <td>0.808</td>\n",
       "      <td>0.536</td>\n",
       "      <td>0.512</td>\n",
       "      <td>0.764</td>\n",
       "      <td>0.534</td>\n",
       "      <td>0.696</td>\n",
       "      <td>0.822</td>\n",
       "      <td>0.808</td>\n",
       "      <td>0.536</td>\n",
       "      <td>0.512</td>\n",
       "      <td>0.718</td>\n",
       "    </tr>\n",
       "    <tr>\n",
       "      <th>21</th>\n",
       "      <td>0.512</td>\n",
       "      <td>0.750</td>\n",
       "      <td>0.666</td>\n",
       "      <td>0.854</td>\n",
       "      <td>0.676</td>\n",
       "      <td>0.544</td>\n",
       "      <td>0.706</td>\n",
       "      <td>0.512</td>\n",
       "      <td>0.696</td>\n",
       "      <td>0.666</td>\n",
       "      <td>0.808</td>\n",
       "      <td>0.536</td>\n",
       "      <td>0.512</td>\n",
       "      <td>0.706</td>\n",
       "    </tr>\n",
       "    <tr>\n",
       "      <th>20</th>\n",
       "      <td>0.440</td>\n",
       "      <td>0.590</td>\n",
       "      <td>0.550</td>\n",
       "      <td>0.772</td>\n",
       "      <td>0.848</td>\n",
       "      <td>0.736</td>\n",
       "      <td>0.492</td>\n",
       "      <td>0.440</td>\n",
       "      <td>0.590</td>\n",
       "      <td>0.550</td>\n",
       "      <td>0.772</td>\n",
       "      <td>0.536</td>\n",
       "      <td>0.512</td>\n",
       "      <td>0.492</td>\n",
       "    </tr>\n",
       "    <tr>\n",
       "      <th>19</th>\n",
       "      <td>0.652</td>\n",
       "      <td>0.834</td>\n",
       "      <td>0.900</td>\n",
       "      <td>0.918</td>\n",
       "      <td>0.712</td>\n",
       "      <td>0.654</td>\n",
       "      <td>0.696</td>\n",
       "      <td>0.440</td>\n",
       "      <td>0.590</td>\n",
       "      <td>0.550</td>\n",
       "      <td>0.772</td>\n",
       "      <td>0.676</td>\n",
       "      <td>0.544</td>\n",
       "      <td>0.492</td>\n",
       "    </tr>\n",
       "    <tr>\n",
       "      <th>18</th>\n",
       "      <td>0.916</td>\n",
       "      <td>0.956</td>\n",
       "      <td>0.940</td>\n",
       "      <td>1.004</td>\n",
       "      <td>0.820</td>\n",
       "      <td>0.448</td>\n",
       "      <td>0.676</td>\n",
       "      <td>0.440</td>\n",
       "      <td>0.590</td>\n",
       "      <td>0.550</td>\n",
       "      <td>0.772</td>\n",
       "      <td>0.712</td>\n",
       "      <td>0.448</td>\n",
       "      <td>0.492</td>\n",
       "    </tr>\n",
       "    <tr>\n",
       "      <th>17</th>\n",
       "      <td>0.504</td>\n",
       "      <td>0.718</td>\n",
       "      <td>0.610</td>\n",
       "      <td>0.802</td>\n",
       "      <td>0.722</td>\n",
       "      <td>0.490</td>\n",
       "      <td>0.728</td>\n",
       "      <td>0.504</td>\n",
       "      <td>0.718</td>\n",
       "      <td>0.610</td>\n",
       "      <td>0.802</td>\n",
       "      <td>0.712</td>\n",
       "      <td>0.448</td>\n",
       "      <td>0.676</td>\n",
       "    </tr>\n",
       "    <tr>\n",
       "      <th>16</th>\n",
       "      <td>0.392</td>\n",
       "      <td>0.370</td>\n",
       "      <td>0.354</td>\n",
       "      <td>0.576</td>\n",
       "      <td>0.586</td>\n",
       "      <td>0.536</td>\n",
       "      <td>0.696</td>\n",
       "      <td>0.392</td>\n",
       "      <td>0.370</td>\n",
       "      <td>0.354</td>\n",
       "      <td>0.576</td>\n",
       "      <td>0.586</td>\n",
       "      <td>0.448</td>\n",
       "      <td>0.676</td>\n",
       "    </tr>\n",
       "    <tr>\n",
       "      <th>15</th>\n",
       "      <td>0.246</td>\n",
       "      <td>0.322</td>\n",
       "      <td>0.342</td>\n",
       "      <td>0.396</td>\n",
       "      <td>0.768</td>\n",
       "      <td>0.450</td>\n",
       "      <td>0.388</td>\n",
       "      <td>0.246</td>\n",
       "      <td>0.322</td>\n",
       "      <td>0.342</td>\n",
       "      <td>0.396</td>\n",
       "      <td>0.586</td>\n",
       "      <td>0.450</td>\n",
       "      <td>0.388</td>\n",
       "    </tr>\n",
       "    <tr>\n",
       "      <th>14</th>\n",
       "      <td>0.300</td>\n",
       "      <td>0.364</td>\n",
       "      <td>0.300</td>\n",
       "      <td>0.350</td>\n",
       "      <td>0.620</td>\n",
       "      <td>0.614</td>\n",
       "      <td>0.544</td>\n",
       "      <td>0.246</td>\n",
       "      <td>0.322</td>\n",
       "      <td>0.300</td>\n",
       "      <td>0.350</td>\n",
       "      <td>0.586</td>\n",
       "      <td>0.450</td>\n",
       "      <td>0.388</td>\n",
       "    </tr>\n",
       "  </tbody>\n",
       "</table>\n",
       "</div>"
      ],
      "text/plain": [
       "Day_of_week      0      1      2      3      4      5      6  min RPH 0  \\\n",
       "Hour_of_day                                                               \n",
       "23           0.534  0.790  1.042  1.042  0.722  0.636  0.718      0.534   \n",
       "22           0.542  0.696  0.822  0.808  0.536  0.512  0.764      0.534   \n",
       "21           0.512  0.750  0.666  0.854  0.676  0.544  0.706      0.512   \n",
       "20           0.440  0.590  0.550  0.772  0.848  0.736  0.492      0.440   \n",
       "19           0.652  0.834  0.900  0.918  0.712  0.654  0.696      0.440   \n",
       "18           0.916  0.956  0.940  1.004  0.820  0.448  0.676      0.440   \n",
       "17           0.504  0.718  0.610  0.802  0.722  0.490  0.728      0.504   \n",
       "16           0.392  0.370  0.354  0.576  0.586  0.536  0.696      0.392   \n",
       "15           0.246  0.322  0.342  0.396  0.768  0.450  0.388      0.246   \n",
       "14           0.300  0.364  0.300  0.350  0.620  0.614  0.544      0.246   \n",
       "\n",
       "Day_of_week  min RPH 1  min RPH 2  min RPH 3  min RPH 4  min RPH 5  min RPH 6  \n",
       "Hour_of_day                                                                    \n",
       "23               0.790      1.042      1.042      0.722      0.636      0.718  \n",
       "22               0.696      0.822      0.808      0.536      0.512      0.718  \n",
       "21               0.696      0.666      0.808      0.536      0.512      0.706  \n",
       "20               0.590      0.550      0.772      0.536      0.512      0.492  \n",
       "19               0.590      0.550      0.772      0.676      0.544      0.492  \n",
       "18               0.590      0.550      0.772      0.712      0.448      0.492  \n",
       "17               0.718      0.610      0.802      0.712      0.448      0.676  \n",
       "16               0.370      0.354      0.576      0.586      0.448      0.676  \n",
       "15               0.322      0.342      0.396      0.586      0.450      0.388  \n",
       "14               0.322      0.300      0.350      0.586      0.450      0.388  "
      ]
     },
     "execution_count": 91,
     "metadata": {},
     "output_type": "execute_result"
    }
   ],
   "source": [
    "RPH_by_day_hours_pivot.head(10)"
   ]
  },
  {
   "cell_type": "markdown",
   "id": "465a07c3-823d-4f9e-8c54-606e4bb0a492",
   "metadata": {},
   "source": [
    "**Calculate the guaranteed hourly earnings based on min PRH and demand_supply_gap**"
   ]
  },
  {
   "cell_type": "markdown",
   "id": "dd6f0635-8428-4f93-8ed4-5ef547f68a81",
   "metadata": {},
   "source": [
    "- **Firstly, merge table with new RPH (base on 3 hours period) with table that has Supply and Demand gap.**"
   ]
  },
  {
   "cell_type": "code",
   "execution_count": 97,
   "id": "5e155a80-9223-4bc9-b36e-40674680bb17",
   "metadata": {},
   "outputs": [],
   "source": [
    "# table with demand and supply gap\n",
    "gap = gap_by_day_hours.pivot(index ='Hour_of_day', columns ='Day_of_week', values ='Demand_supply_gap')\\\n",
    "                        .sort_values(by ='Hour_of_day',ascending=False)"
   ]
  },
  {
   "cell_type": "code",
   "execution_count": 98,
   "id": "8abfa019-5635-46b4-a0d2-aa3b2f6e4dd0",
   "metadata": {},
   "outputs": [],
   "source": [
    "# Merge 2 tables\n",
    "RPH_gap = pd.merge(RPH_by_day_hours_pivot, gap, how=\"left\",left_on='Hour_of_day',right_on='Hour_of_day',\\\n",
    "                   suffixes=('_RPH', '_Gap')) "
   ]
  },
  {
   "cell_type": "code",
   "execution_count": 99,
   "id": "d1b141d3-1461-412d-bb55-64fadd21a583",
   "metadata": {},
   "outputs": [
    {
     "data": {
      "text/html": [
       "<div>\n",
       "<style scoped>\n",
       "    .dataframe tbody tr th:only-of-type {\n",
       "        vertical-align: middle;\n",
       "    }\n",
       "\n",
       "    .dataframe tbody tr th {\n",
       "        vertical-align: top;\n",
       "    }\n",
       "\n",
       "    .dataframe thead th {\n",
       "        text-align: right;\n",
       "    }\n",
       "</style>\n",
       "<table border=\"1\" class=\"dataframe\">\n",
       "  <thead>\n",
       "    <tr style=\"text-align: right;\">\n",
       "      <th>Day_of_week</th>\n",
       "      <th>0_RPH</th>\n",
       "      <th>1_RPH</th>\n",
       "      <th>2_RPH</th>\n",
       "      <th>3_RPH</th>\n",
       "      <th>4_RPH</th>\n",
       "      <th>5_RPH</th>\n",
       "      <th>6_RPH</th>\n",
       "      <th>min RPH 0</th>\n",
       "      <th>min RPH 1</th>\n",
       "      <th>min RPH 2</th>\n",
       "      <th>...</th>\n",
       "      <th>min RPH 4</th>\n",
       "      <th>min RPH 5</th>\n",
       "      <th>min RPH 6</th>\n",
       "      <th>0_Gap</th>\n",
       "      <th>1_Gap</th>\n",
       "      <th>2_Gap</th>\n",
       "      <th>3_Gap</th>\n",
       "      <th>4_Gap</th>\n",
       "      <th>5_Gap</th>\n",
       "      <th>6_Gap</th>\n",
       "    </tr>\n",
       "    <tr>\n",
       "      <th>Hour_of_day</th>\n",
       "      <th></th>\n",
       "      <th></th>\n",
       "      <th></th>\n",
       "      <th></th>\n",
       "      <th></th>\n",
       "      <th></th>\n",
       "      <th></th>\n",
       "      <th></th>\n",
       "      <th></th>\n",
       "      <th></th>\n",
       "      <th></th>\n",
       "      <th></th>\n",
       "      <th></th>\n",
       "      <th></th>\n",
       "      <th></th>\n",
       "      <th></th>\n",
       "      <th></th>\n",
       "      <th></th>\n",
       "      <th></th>\n",
       "      <th></th>\n",
       "      <th></th>\n",
       "    </tr>\n",
       "  </thead>\n",
       "  <tbody>\n",
       "    <tr>\n",
       "      <th>23</th>\n",
       "      <td>0.534</td>\n",
       "      <td>0.790</td>\n",
       "      <td>1.042</td>\n",
       "      <td>1.042</td>\n",
       "      <td>0.722</td>\n",
       "      <td>0.636</td>\n",
       "      <td>0.718</td>\n",
       "      <td>0.534</td>\n",
       "      <td>0.790</td>\n",
       "      <td>1.042</td>\n",
       "      <td>...</td>\n",
       "      <td>0.722</td>\n",
       "      <td>0.636</td>\n",
       "      <td>0.718</td>\n",
       "      <td>-3.0</td>\n",
       "      <td>-2.2</td>\n",
       "      <td>0.4</td>\n",
       "      <td>1.0</td>\n",
       "      <td>-5.2</td>\n",
       "      <td>-8.6</td>\n",
       "      <td>-0.6</td>\n",
       "    </tr>\n",
       "    <tr>\n",
       "      <th>22</th>\n",
       "      <td>0.542</td>\n",
       "      <td>0.696</td>\n",
       "      <td>0.822</td>\n",
       "      <td>0.808</td>\n",
       "      <td>0.536</td>\n",
       "      <td>0.512</td>\n",
       "      <td>0.764</td>\n",
       "      <td>0.534</td>\n",
       "      <td>0.696</td>\n",
       "      <td>0.822</td>\n",
       "      <td>...</td>\n",
       "      <td>0.536</td>\n",
       "      <td>0.512</td>\n",
       "      <td>0.718</td>\n",
       "      <td>-3.2</td>\n",
       "      <td>-1.8</td>\n",
       "      <td>-2.4</td>\n",
       "      <td>-2.8</td>\n",
       "      <td>-11.6</td>\n",
       "      <td>-12.8</td>\n",
       "      <td>-2.4</td>\n",
       "    </tr>\n",
       "    <tr>\n",
       "      <th>21</th>\n",
       "      <td>0.512</td>\n",
       "      <td>0.750</td>\n",
       "      <td>0.666</td>\n",
       "      <td>0.854</td>\n",
       "      <td>0.676</td>\n",
       "      <td>0.544</td>\n",
       "      <td>0.706</td>\n",
       "      <td>0.512</td>\n",
       "      <td>0.696</td>\n",
       "      <td>0.666</td>\n",
       "      <td>...</td>\n",
       "      <td>0.536</td>\n",
       "      <td>0.512</td>\n",
       "      <td>0.706</td>\n",
       "      <td>-7.0</td>\n",
       "      <td>-3.8</td>\n",
       "      <td>-4.6</td>\n",
       "      <td>-1.0</td>\n",
       "      <td>-6.8</td>\n",
       "      <td>-13.2</td>\n",
       "      <td>-3.6</td>\n",
       "    </tr>\n",
       "    <tr>\n",
       "      <th>20</th>\n",
       "      <td>0.440</td>\n",
       "      <td>0.590</td>\n",
       "      <td>0.550</td>\n",
       "      <td>0.772</td>\n",
       "      <td>0.848</td>\n",
       "      <td>0.736</td>\n",
       "      <td>0.492</td>\n",
       "      <td>0.440</td>\n",
       "      <td>0.590</td>\n",
       "      <td>0.550</td>\n",
       "      <td>...</td>\n",
       "      <td>0.536</td>\n",
       "      <td>0.512</td>\n",
       "      <td>0.492</td>\n",
       "      <td>-10.4</td>\n",
       "      <td>-5.2</td>\n",
       "      <td>-8.4</td>\n",
       "      <td>-1.2</td>\n",
       "      <td>-2.6</td>\n",
       "      <td>-9.6</td>\n",
       "      <td>-9.0</td>\n",
       "    </tr>\n",
       "    <tr>\n",
       "      <th>19</th>\n",
       "      <td>0.652</td>\n",
       "      <td>0.834</td>\n",
       "      <td>0.900</td>\n",
       "      <td>0.918</td>\n",
       "      <td>0.712</td>\n",
       "      <td>0.654</td>\n",
       "      <td>0.696</td>\n",
       "      <td>0.440</td>\n",
       "      <td>0.590</td>\n",
       "      <td>0.550</td>\n",
       "      <td>...</td>\n",
       "      <td>0.676</td>\n",
       "      <td>0.544</td>\n",
       "      <td>0.492</td>\n",
       "      <td>-1.4</td>\n",
       "      <td>2.6</td>\n",
       "      <td>4.0</td>\n",
       "      <td>4.6</td>\n",
       "      <td>-4.2</td>\n",
       "      <td>-7.4</td>\n",
       "      <td>-1.6</td>\n",
       "    </tr>\n",
       "  </tbody>\n",
       "</table>\n",
       "<p>5 rows × 21 columns</p>\n",
       "</div>"
      ],
      "text/plain": [
       "Day_of_week  0_RPH  1_RPH  2_RPH  3_RPH  4_RPH  5_RPH  6_RPH  min RPH 0  \\\n",
       "Hour_of_day                                                               \n",
       "23           0.534  0.790  1.042  1.042  0.722  0.636  0.718      0.534   \n",
       "22           0.542  0.696  0.822  0.808  0.536  0.512  0.764      0.534   \n",
       "21           0.512  0.750  0.666  0.854  0.676  0.544  0.706      0.512   \n",
       "20           0.440  0.590  0.550  0.772  0.848  0.736  0.492      0.440   \n",
       "19           0.652  0.834  0.900  0.918  0.712  0.654  0.696      0.440   \n",
       "\n",
       "Day_of_week  min RPH 1  min RPH 2  ...  min RPH 4  min RPH 5  min RPH 6  \\\n",
       "Hour_of_day                        ...                                    \n",
       "23               0.790      1.042  ...      0.722      0.636      0.718   \n",
       "22               0.696      0.822  ...      0.536      0.512      0.718   \n",
       "21               0.696      0.666  ...      0.536      0.512      0.706   \n",
       "20               0.590      0.550  ...      0.536      0.512      0.492   \n",
       "19               0.590      0.550  ...      0.676      0.544      0.492   \n",
       "\n",
       "Day_of_week  0_Gap  1_Gap  2_Gap  3_Gap  4_Gap  5_Gap  6_Gap  \n",
       "Hour_of_day                                                   \n",
       "23            -3.0   -2.2    0.4    1.0   -5.2   -8.6   -0.6  \n",
       "22            -3.2   -1.8   -2.4   -2.8  -11.6  -12.8   -2.4  \n",
       "21            -7.0   -3.8   -4.6   -1.0   -6.8  -13.2   -3.6  \n",
       "20           -10.4   -5.2   -8.4   -1.2   -2.6   -9.6   -9.0  \n",
       "19            -1.4    2.6    4.0    4.6   -4.2   -7.4   -1.6  \n",
       "\n",
       "[5 rows x 21 columns]"
      ]
     },
     "execution_count": 99,
     "metadata": {},
     "output_type": "execute_result"
    }
   ],
   "source": [
    "RPH_gap.head()"
   ]
  },
  {
   "cell_type": "markdown",
   "id": "ca4a6cd6-8792-4663-9dde-86290c50d815",
   "metadata": {},
   "source": [
    "- **Secondly, calculate the additional Finished Rides by multiply new RPH with Supply and demand gap.**"
   ]
  },
  {
   "cell_type": "code",
   "execution_count": 100,
   "id": "cb20a433-de0a-4c4f-82b3-9f75be398050",
   "metadata": {},
   "outputs": [],
   "source": [
    "RPH_gap_shorten = RPH_gap.iloc[0:,7:]\n",
    "\n",
    "for i in range(0,7):\n",
    "    RPH_gap_shorten[\"additional Finished Rides \"+ str(i)] = abs(RPH_gap_shorten.iloc[:,i]*RPH_gap_shorten.iloc[:,i+7])"
   ]
  },
  {
   "cell_type": "markdown",
   "id": "9486bb77-2276-4bd3-a184-8d3c2e1d051e",
   "metadata": {},
   "source": [
    "- **Now, we have a table have information about the minimum additional Finish Rides if driver work in these extra hours**"
   ]
  },
  {
   "cell_type": "code",
   "execution_count": 101,
   "id": "8b334962-0e3a-4085-80b1-27ed66535668",
   "metadata": {},
   "outputs": [
    {
     "data": {
      "text/html": [
       "<div>\n",
       "<style scoped>\n",
       "    .dataframe tbody tr th:only-of-type {\n",
       "        vertical-align: middle;\n",
       "    }\n",
       "\n",
       "    .dataframe tbody tr th {\n",
       "        vertical-align: top;\n",
       "    }\n",
       "\n",
       "    .dataframe thead th {\n",
       "        text-align: right;\n",
       "    }\n",
       "</style>\n",
       "<table border=\"1\" class=\"dataframe\">\n",
       "  <thead>\n",
       "    <tr style=\"text-align: right;\">\n",
       "      <th>Day_of_week</th>\n",
       "      <th>additional Finished Rides 0</th>\n",
       "      <th>additional Finished Rides 1</th>\n",
       "      <th>additional Finished Rides 2</th>\n",
       "      <th>additional Finished Rides 3</th>\n",
       "      <th>additional Finished Rides 4</th>\n",
       "      <th>additional Finished Rides 5</th>\n",
       "      <th>additional Finished Rides 6</th>\n",
       "    </tr>\n",
       "    <tr>\n",
       "      <th>Hour_of_day</th>\n",
       "      <th></th>\n",
       "      <th></th>\n",
       "      <th></th>\n",
       "      <th></th>\n",
       "      <th></th>\n",
       "      <th></th>\n",
       "      <th></th>\n",
       "    </tr>\n",
       "  </thead>\n",
       "  <tbody>\n",
       "    <tr>\n",
       "      <th>23</th>\n",
       "      <td>1.6020</td>\n",
       "      <td>1.7380</td>\n",
       "      <td>0.4168</td>\n",
       "      <td>1.0420</td>\n",
       "      <td>3.7544</td>\n",
       "      <td>5.4696</td>\n",
       "      <td>0.4308</td>\n",
       "    </tr>\n",
       "    <tr>\n",
       "      <th>22</th>\n",
       "      <td>1.7088</td>\n",
       "      <td>1.2528</td>\n",
       "      <td>1.9728</td>\n",
       "      <td>2.2624</td>\n",
       "      <td>6.2176</td>\n",
       "      <td>6.5536</td>\n",
       "      <td>1.7232</td>\n",
       "    </tr>\n",
       "    <tr>\n",
       "      <th>21</th>\n",
       "      <td>3.5840</td>\n",
       "      <td>2.6448</td>\n",
       "      <td>3.0636</td>\n",
       "      <td>0.8080</td>\n",
       "      <td>3.6448</td>\n",
       "      <td>6.7584</td>\n",
       "      <td>2.5416</td>\n",
       "    </tr>\n",
       "    <tr>\n",
       "      <th>20</th>\n",
       "      <td>4.5760</td>\n",
       "      <td>3.0680</td>\n",
       "      <td>4.6200</td>\n",
       "      <td>0.9264</td>\n",
       "      <td>1.3936</td>\n",
       "      <td>4.9152</td>\n",
       "      <td>4.4280</td>\n",
       "    </tr>\n",
       "    <tr>\n",
       "      <th>19</th>\n",
       "      <td>0.6160</td>\n",
       "      <td>1.5340</td>\n",
       "      <td>2.2000</td>\n",
       "      <td>3.5512</td>\n",
       "      <td>2.8392</td>\n",
       "      <td>4.0256</td>\n",
       "      <td>0.7872</td>\n",
       "    </tr>\n",
       "  </tbody>\n",
       "</table>\n",
       "</div>"
      ],
      "text/plain": [
       "Day_of_week  additional Finished Rides 0  additional Finished Rides 1  \\\n",
       "Hour_of_day                                                             \n",
       "23                                1.6020                       1.7380   \n",
       "22                                1.7088                       1.2528   \n",
       "21                                3.5840                       2.6448   \n",
       "20                                4.5760                       3.0680   \n",
       "19                                0.6160                       1.5340   \n",
       "\n",
       "Day_of_week  additional Finished Rides 2  additional Finished Rides 3  \\\n",
       "Hour_of_day                                                             \n",
       "23                                0.4168                       1.0420   \n",
       "22                                1.9728                       2.2624   \n",
       "21                                3.0636                       0.8080   \n",
       "20                                4.6200                       0.9264   \n",
       "19                                2.2000                       3.5512   \n",
       "\n",
       "Day_of_week  additional Finished Rides 4  additional Finished Rides 5  \\\n",
       "Hour_of_day                                                             \n",
       "23                                3.7544                       5.4696   \n",
       "22                                6.2176                       6.5536   \n",
       "21                                3.6448                       6.7584   \n",
       "20                                1.3936                       4.9152   \n",
       "19                                2.8392                       4.0256   \n",
       "\n",
       "Day_of_week  additional Finished Rides 6  \n",
       "Hour_of_day                               \n",
       "23                                0.4308  \n",
       "22                                1.7232  \n",
       "21                                2.5416  \n",
       "20                                4.4280  \n",
       "19                                0.7872  "
      ]
     },
     "execution_count": 101,
     "metadata": {},
     "output_type": "execute_result"
    }
   ],
   "source": [
    "additional_Finish_ride = RPH_gap_shorten.iloc[:,-7:]\n",
    "additional_Finish_ride.head()"
   ]
  },
  {
   "cell_type": "markdown",
   "id": "24de11b8-238b-4d72-9168-b47d8fcf3b32",
   "metadata": {},
   "source": [
    "- **Visuallize the data**"
   ]
  },
  {
   "cell_type": "code",
   "execution_count": 103,
   "id": "33122894-5734-4c33-8c90-2d12c21928ef",
   "metadata": {},
   "outputs": [
    {
     "data": {
      "text/plain": [
       "Text(1032.3913043478262, 0.5, 'Hour of day')"
      ]
     },
     "execution_count": 103,
     "metadata": {},
     "output_type": "execute_result"
    },
    {
     "data": {
      "image/png": "[encoded data removed]",
      "text/plain": [
       "<Figure size 1440x504 with 8 Axes>"
      ]
     },
     "metadata": {
      "needs_background": "light"
     },
     "output_type": "display_data"
    }
   ],
   "source": [
    "fig, ax = plt.subplots(1, 4, figsize=(20, 7))\n",
    "\n",
    "# p1\n",
    "title1 = 'Hourly additional Finished Rides'\n",
    "plt.title(title, fontsize=10,\n",
    "          backgroundcolor='White',\n",
    "          color='Green')\n",
    "\n",
    "p1 = sns.heatmap(additional_Finish_ride,ax=ax[0], cmap=\"Blues\",linewidths=.5,linecolor='white',\n",
    "                      annot=True)\n",
    "\n",
    "ax[0].set_title(title1,fontsize=13,\n",
    "          backgroundcolor='White',\n",
    "          color='Red')\n",
    "ax[0].set_xticks([0,1,2,3,4,5,6])\n",
    "\n",
    "plt.xlabel('Day of week (Mon:0 -> Sun:6)', fontsize = 8) \n",
    "plt.ylabel('Hour of day', fontsize = 8)\n",
    "\n",
    "# p2\n",
    "title2 = 'Total Guaranteed Earning'\n",
    "p2 = sns.heatmap(additional_Finish_ride*8,ax=ax[1], cmap=\"Blues\",linewidths=.5,linecolor='white',\n",
    "                      annot=True)\n",
    "ax[1].set_title(title2,fontsize=13,\n",
    "          backgroundcolor='White',\n",
    "          color='Red')\n",
    "\n",
    "ax[1].set_xticks([0,1,2,3,4,5,6])\n",
    "plt.xlabel('Day of week (Mon:0 -> Sun:6)', fontsize = 8) \n",
    "plt.ylabel('Hour of day', fontsize = 8)\n",
    "\n",
    "# p3\n",
    "title3 = 'Guaranteed Hourly Earning'\n",
    "p3 = sns.heatmap(RPH_gap_shorten.iloc[:,0:7]*8,ax=ax[2], cmap=\"Blues\",linewidths=.5,linecolor='white',vmin=2,\n",
    "                      annot=True)\n",
    "ax[2].set_title(title3,fontsize=13,\n",
    "          backgroundcolor='White',\n",
    "          color='Red')\n",
    "\n",
    "ax[2].set_xticks([0,1,2,3,4,5,6])\n",
    "plt.xlabel('Day of week (Mon:0 -> Sun:6)', fontsize = 8) \n",
    "plt.ylabel('Hour of day', fontsize = 8)\n",
    "\n",
    "# p4 - peak hour\n",
    "title4 = '36 most undersupplied hours in a week'\n",
    "ax[3].set_title(title4,fontsize=13,\n",
    "          backgroundcolor='White',\n",
    "          color='Red')\n",
    "\n",
    "p4 = sns.heatmap(gap_by_day_hours_pivot, cmap=\"Blues\",ax=ax[3],linewidths=.5,linecolor='white',vmin=.6, vmax=9)\n",
    "\n",
    "plt.xlabel('Day of week (Mon:0 -> Sun:6)', fontsize = 8) \n",
    "plt.ylabel('Hour of day', fontsize = 8)"
   ]
  },
  {
   "cell_type": "markdown",
   "id": "ac875333-8d2c-40f1-a4e6-030d9ec4cb1c",
   "metadata": {},
   "source": [
    "- Based on **Guaranteed Hourly Earning** and **36 hours in a week are most undersupplied** heat maps aboved, company can recommend a guaranteed hourly earnings they can offer to drivers during 36 weekly hours with the highest demand."
   ]
  },
  {
   "cell_type": "markdown",
   "id": "c24dd667-d744-4cb3-a82a-ff73dc520d0c",
   "metadata": {},
   "source": [
    "**How many extra hours we want to get to capture missed demand**\n",
    "- Extra hours we want to get to capture missed demand: 102 hours\n",
    "\n"
   ]
  },
  {
   "cell_type": "code",
   "execution_count": 37,
   "id": "5e3a208c-ed2f-424c-97a9-40000ba26b15",
   "metadata": {},
   "outputs": [
    {
     "data": {
      "text/plain": [
       "102"
      ]
     },
     "execution_count": 37,
     "metadata": {},
     "output_type": "execute_result"
    }
   ],
   "source": [
    "round(top_36_hours.Demand_supply_gap.sum())"
   ]
  },
  {
   "cell_type": "markdown",
   "id": "6bf51302-903c-465c-af26-cfabbdd129cd",
   "metadata": {},
   "source": [
    "#### Lastly, we will find out what the hours of oversupply? Can we shift some of them to undersupply hours?"
   ]
  },
  {
   "cell_type": "code",
   "execution_count": 105,
   "id": "c19e1fab-0a23-4e8e-8704-a3957457c481",
   "metadata": {},
   "outputs": [
    {
     "data": {
      "text/plain": [
       "Index(['Date', 'Month_of_year', 'Week_of_year', 'Day_of_week', 'Day_name',\n",
       "       'Hour_of_day', 'Active drivers', 'Online (h)', 'Has booking (h)',\n",
       "       'Waiting for booking (h)', 'Busy (h)', 'Hours per active driver',\n",
       "       'Rides per online hour', 'Finished Rides', 'People saw 0 cars (unique)',\n",
       "       'People saw +1 cars (unique)', 'Coverage Ratio (unique)', 'Demand',\n",
       "       'Supply', 'Demand_supply_gap', 'Coverage Ratio'],\n",
       "      dtype='object')"
      ]
     },
     "execution_count": 105,
     "metadata": {},
     "output_type": "execute_result"
    }
   ],
   "source": [
    "data.columns"
   ]
  },
  {
   "cell_type": "code",
   "execution_count": 107,
   "id": "58111d3c-77a6-4d98-a80d-4b4726391c64",
   "metadata": {},
   "outputs": [],
   "source": [
    "# calculate the average Active drivers group by Day_of_week, Day_name,Hour_of_day\n",
    "driver_by_day_hours = data.groupby(['Day_of_week','Day_name','Hour_of_day'], sort=True).agg({'Active drivers': ['mean']}).reset_index()\n",
    "driver_by_day_hours.columns = driver_by_day_hours.columns.droplevel(1)\n",
    "driver_by_day_hours_pivot = driver_by_day_hours.pivot(index ='Hour_of_day', columns ='Day_of_week', values ='Active drivers')\\\n",
    "                        .sort_values(by ='Hour_of_day',ascending=False)"
   ]
  },
  {
   "cell_type": "code",
   "execution_count": 108,
   "id": "fa5b7300-9915-4893-a197-545e651f4886",
   "metadata": {},
   "outputs": [
    {
     "data": {
      "text/plain": [
       "Text(0.5, 1.0, 'Active drivers by hours')"
      ]
     },
     "execution_count": 108,
     "metadata": {},
     "output_type": "execute_result"
    },
    {
     "data": {
      "image/png": "[encoded data removed]",
      "text/plain": [
       "<Figure size 1440x504 with 4 Axes>"
      ]
     },
     "metadata": {
      "needs_background": "light"
     },
     "output_type": "display_data"
    }
   ],
   "source": [
    "fig, ax = plt.subplots(1, 2, figsize=(20, 7))\n",
    "\n",
    "p1 = sns.heatmap(gap_by_day_hours_pivot, ax=ax[0], cmap=\"PRGn\",linewidths=.5,linecolor='white', annot_kws={'fontsize':8},\n",
    "#                  vmin=0,cbar=False,\n",
    "#                 vmax=2\n",
    "                )\n",
    "ax[0].set_title('Oversupply (purple) and Undersupply (green) by hours',fontsize=13,\n",
    "          backgroundcolor='White',\n",
    "          color='Red')\n",
    "\n",
    "plt.xlabel('Day of week (Mon:0 -> Sun:6)', fontsize = 8) \n",
    "plt.ylabel('Hour of day', fontsize = 8)\n",
    "\n",
    "p2 = sns.heatmap(driver_by_day_hours_pivot, ax=ax[1], cmap=\"Blues\",linewidths=.5,linecolor='white', annot_kws={'fontsize':8})\n",
    "ax[1].set_title('Active drivers by hours',fontsize=13,\n",
    "          backgroundcolor='White',\n",
    "          color='Red')"
   ]
  },
  {
   "cell_type": "code",
   "execution_count": 110,
   "id": "e4323769-06f2-4fd9-bdd8-9b1347aa6f3d",
   "metadata": {},
   "outputs": [
    {
     "name": "stdout",
     "output_type": "stream",
     "text": [
      "Top 10 oversupplied hours\n"
     ]
    },
    {
     "data": {
      "text/html": [
       "<div>\n",
       "<style scoped>\n",
       "    .dataframe tbody tr th:only-of-type {\n",
       "        vertical-align: middle;\n",
       "    }\n",
       "\n",
       "    .dataframe tbody tr th {\n",
       "        vertical-align: top;\n",
       "    }\n",
       "\n",
       "    .dataframe thead th {\n",
       "        text-align: right;\n",
       "    }\n",
       "</style>\n",
       "<table border=\"1\" class=\"dataframe\">\n",
       "  <thead>\n",
       "    <tr style=\"text-align: right;\">\n",
       "      <th></th>\n",
       "      <th>Day_of_week</th>\n",
       "      <th>Day_name</th>\n",
       "      <th>Hour_of_day</th>\n",
       "      <th>Demand_supply_gap</th>\n",
       "    </tr>\n",
       "  </thead>\n",
       "  <tbody>\n",
       "    <tr>\n",
       "      <th>141</th>\n",
       "      <td>5</td>\n",
       "      <td>Saturday</td>\n",
       "      <td>21</td>\n",
       "      <td>-13.2</td>\n",
       "    </tr>\n",
       "    <tr>\n",
       "      <th>142</th>\n",
       "      <td>5</td>\n",
       "      <td>Saturday</td>\n",
       "      <td>22</td>\n",
       "      <td>-12.8</td>\n",
       "    </tr>\n",
       "    <tr>\n",
       "      <th>118</th>\n",
       "      <td>4</td>\n",
       "      <td>Friday</td>\n",
       "      <td>22</td>\n",
       "      <td>-11.6</td>\n",
       "    </tr>\n",
       "    <tr>\n",
       "      <th>20</th>\n",
       "      <td>0</td>\n",
       "      <td>Monday</td>\n",
       "      <td>20</td>\n",
       "      <td>-10.4</td>\n",
       "    </tr>\n",
       "    <tr>\n",
       "      <th>140</th>\n",
       "      <td>5</td>\n",
       "      <td>Saturday</td>\n",
       "      <td>20</td>\n",
       "      <td>-9.6</td>\n",
       "    </tr>\n",
       "    <tr>\n",
       "      <th>164</th>\n",
       "      <td>6</td>\n",
       "      <td>Sunday</td>\n",
       "      <td>20</td>\n",
       "      <td>-9.0</td>\n",
       "    </tr>\n",
       "    <tr>\n",
       "      <th>138</th>\n",
       "      <td>5</td>\n",
       "      <td>Saturday</td>\n",
       "      <td>18</td>\n",
       "      <td>-9.0</td>\n",
       "    </tr>\n",
       "    <tr>\n",
       "      <th>143</th>\n",
       "      <td>5</td>\n",
       "      <td>Saturday</td>\n",
       "      <td>23</td>\n",
       "      <td>-8.6</td>\n",
       "    </tr>\n",
       "    <tr>\n",
       "      <th>11</th>\n",
       "      <td>0</td>\n",
       "      <td>Monday</td>\n",
       "      <td>11</td>\n",
       "      <td>-8.4</td>\n",
       "    </tr>\n",
       "    <tr>\n",
       "      <th>68</th>\n",
       "      <td>2</td>\n",
       "      <td>Wednesday</td>\n",
       "      <td>20</td>\n",
       "      <td>-8.4</td>\n",
       "    </tr>\n",
       "  </tbody>\n",
       "</table>\n",
       "</div>"
      ],
      "text/plain": [
       "     Day_of_week   Day_name  Hour_of_day  Demand_supply_gap\n",
       "141            5   Saturday           21              -13.2\n",
       "142            5   Saturday           22              -12.8\n",
       "118            4     Friday           22              -11.6\n",
       "20             0     Monday           20              -10.4\n",
       "140            5   Saturday           20               -9.6\n",
       "164            6     Sunday           20               -9.0\n",
       "138            5   Saturday           18               -9.0\n",
       "143            5   Saturday           23               -8.6\n",
       "11             0     Monday           11               -8.4\n",
       "68             2  Wednesday           20               -8.4"
      ]
     },
     "execution_count": 110,
     "metadata": {},
     "output_type": "execute_result"
    }
   ],
   "source": [
    "top_36_hours_over_suppy = gap_by_day_hours.sort_values(by ='Demand_supply_gap',ascending=True).nsmallest(36,'Demand_supply_gap',keep='all')\n",
    "\n",
    "print('Top 10 oversupplied hours')\n",
    "top_36_hours_over_suppy.head(10)"
   ]
  },
  {
   "cell_type": "markdown",
   "id": "ab015e6f-71eb-454e-88d4-d68f21fdee90",
   "metadata": {},
   "source": [
    "The heat map **Oversupply (purple) and Undersupply (green) by hours** show the distribution of undersupplied and oversupply hours. \n",
    "\n",
    "- Most of the oversupply hours will be allocated from 10 am to 11 am during weekdays and 8 pm to 9 pm. All these hours are after the peak hours.  This could be because the demand after peak hour decreased significantly, or the number of drivers increased or both of them (Question 2). However, when looking at the heat map **Active drivers by hour**. The number of drivers during peak hour and after peak hour remain the same or just fluctuate in a small range. **Hence, we can conclude that many drivers still active after peak hours while the demand decrease, leading to the oversupply hours.**\n",
    "\n",
    "- On the other hand, **most of the oversupplied hours will range from 7 pm to 23 pm on weekends**. The number of active drivers is also high during these hours. However, **the most undersupplied hours on weekends is from 3 am – 4 am (Friday, Saturday, and Sunday) and 8 am (Sunday)**. There are not too many drivers active during this time. It is reasonable that drivers do not want to wake up and go to work at 3 am."
   ]
  },
  {
   "cell_type": "markdown",
   "id": "611de0d8-c12c-44c6-8616-36f4f4ced61c",
   "metadata": {},
   "source": [
    "Theoretically, **we can shift some supply to necessary hours**. \n",
    "\n",
    "However, we need more data to prove that we have enough of the unique drivers for peak hours. For example, on Monday evening, we want to shift an active driver A from 8 pm to 9 pm to peak hours of 6 pm to 7 pm. But there is no data to prove that he did not work from 6 pm to 7 pm. The better solution is that we can recommend a driver who never works in peak hours of 6 pm to 7 pm to active early. By doing this, we can cover the gap during peak hours.\n",
    "\n",
    "Therefore, I would recommend we can collect more data to solve allocation problems.\n",
    "\n",
    "Besides, drivers are not willing to go out on \"tough\" hours like 3 am Sundays. However, we can offer them an attractive incentive that can motivate them to work."
   ]
  },
  {
   "cell_type": "code",
   "execution_count": null,
   "id": "2bbed800-3fb4-4241-8e34-367d45a29d40",
   "metadata": {},
   "outputs": [],
   "source": []
  }
 ],
 "metadata": {
  "kernelspec": {
   "display_name": "Python 3",
   "language": "python",
   "name": "python3"
  },
  "language_info": {
   "codemirror_mode": {
    "name": "ipython",
    "version": 3
   },
   "file_extension": ".py",
   "mimetype": "text/x-python",
   "name": "python",
   "nbconvert_exporter": "python",
   "pygments_lexer": "ipython3",
   "version": "3.8.8"
  }
 },
 "nbformat": 4,
 "nbformat_minor": 5
}
