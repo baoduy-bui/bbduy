{
 "cells": [
  {
   "cell_type": "code",
   "execution_count": 1,
   "metadata": {},
   "outputs": [],
   "source": [
    "from os.path import normpath\n",
    "import pandas as pd\n",
    "import matplotlib as plt\n",
    "import numpy as np"
   ]
  },
  {
   "cell_type": "code",
   "execution_count": 2,
   "metadata": {},
   "outputs": [
    {
     "data": {
      "text/html": [
       "<div>\n",
       "<style scoped>\n",
       "    .dataframe tbody tr th:only-of-type {\n",
       "        vertical-align: middle;\n",
       "    }\n",
       "\n",
       "    .dataframe tbody tr th {\n",
       "        vertical-align: top;\n",
       "    }\n",
       "\n",
       "    .dataframe thead th {\n",
       "        text-align: right;\n",
       "    }\n",
       "</style>\n",
       "<table border=\"1\" class=\"dataframe\">\n",
       "  <thead>\n",
       "    <tr style=\"text-align: right;\">\n",
       "      <th></th>\n",
       "      <th>PassengerId</th>\n",
       "      <th>Pclass</th>\n",
       "      <th>Sex</th>\n",
       "      <th>Age</th>\n",
       "      <th>SibSp</th>\n",
       "      <th>Parch</th>\n",
       "      <th>Fare</th>\n",
       "      <th>Embarked</th>\n",
       "      <th>Title</th>\n",
       "      <th>Survived</th>\n",
       "    </tr>\n",
       "  </thead>\n",
       "  <tbody>\n",
       "    <tr>\n",
       "      <th>0</th>\n",
       "      <td>1</td>\n",
       "      <td>3</td>\n",
       "      <td>0</td>\n",
       "      <td>22.0</td>\n",
       "      <td>1</td>\n",
       "      <td>0</td>\n",
       "      <td>7.2500</td>\n",
       "      <td>0</td>\n",
       "      <td>0</td>\n",
       "      <td>0</td>\n",
       "    </tr>\n",
       "    <tr>\n",
       "      <th>1</th>\n",
       "      <td>2</td>\n",
       "      <td>1</td>\n",
       "      <td>1</td>\n",
       "      <td>38.0</td>\n",
       "      <td>1</td>\n",
       "      <td>0</td>\n",
       "      <td>71.2833</td>\n",
       "      <td>1</td>\n",
       "      <td>1</td>\n",
       "      <td>1</td>\n",
       "    </tr>\n",
       "    <tr>\n",
       "      <th>2</th>\n",
       "      <td>3</td>\n",
       "      <td>3</td>\n",
       "      <td>1</td>\n",
       "      <td>26.0</td>\n",
       "      <td>0</td>\n",
       "      <td>0</td>\n",
       "      <td>7.9250</td>\n",
       "      <td>0</td>\n",
       "      <td>2</td>\n",
       "      <td>1</td>\n",
       "    </tr>\n",
       "    <tr>\n",
       "      <th>3</th>\n",
       "      <td>4</td>\n",
       "      <td>1</td>\n",
       "      <td>1</td>\n",
       "      <td>35.0</td>\n",
       "      <td>1</td>\n",
       "      <td>0</td>\n",
       "      <td>53.1000</td>\n",
       "      <td>0</td>\n",
       "      <td>1</td>\n",
       "      <td>1</td>\n",
       "    </tr>\n",
       "    <tr>\n",
       "      <th>4</th>\n",
       "      <td>5</td>\n",
       "      <td>3</td>\n",
       "      <td>0</td>\n",
       "      <td>35.0</td>\n",
       "      <td>0</td>\n",
       "      <td>0</td>\n",
       "      <td>8.0500</td>\n",
       "      <td>0</td>\n",
       "      <td>0</td>\n",
       "      <td>0</td>\n",
       "    </tr>\n",
       "  </tbody>\n",
       "</table>\n",
       "</div>"
      ],
      "text/plain": [
       "   PassengerId  Pclass  Sex   Age  SibSp  Parch     Fare  Embarked  Title  \\\n",
       "0            1       3    0  22.0      1      0   7.2500         0      0   \n",
       "1            2       1    1  38.0      1      0  71.2833         1      1   \n",
       "2            3       3    1  26.0      0      0   7.9250         0      2   \n",
       "3            4       1    1  35.0      1      0  53.1000         0      1   \n",
       "4            5       3    0  35.0      0      0   8.0500         0      0   \n",
       "\n",
       "   Survived  \n",
       "0         0  \n",
       "1         1  \n",
       "2         1  \n",
       "3         1  \n",
       "4         0  "
      ]
     },
     "execution_count": 2,
     "metadata": {},
     "output_type": "execute_result"
    }
   ],
   "source": [
    "# Read the data set\n",
    "data = pd.read_csv('/Users/dbui/Documents/Macbook pro 2022/AIO/logistic_updated/Exercise/titanic_modified_dataset.csv')\n",
    "data.head()\n",
    "# Definitions of some columns\n",
    "# – PassengerId: Mã hàng khách. Đây được xem là chỉ mục của bảng dữ liệu. – Pclass: Hạng vé tàu của hàng khách.\n",
    "# – Sex: Giới tính của hàng khách.\n",
    "# – Age: Tuổi của hàng khách.\n",
    "# – SibSp: Số lượng anh chị em và/hoặc người yêu đi cùng chuyến tàu với hàng khách. – Parch: Số lượng phụ huynh và/hoặc con cháu đi cùng chuyến tàu với hàng khách. – Fare: Giá vé tàu của hàng khách.\n",
    "# – Embarked: Cảng xuất phát của hàng khách.\n",
    "# – Title: Tước hiệu của hàng khách.\n",
    "# – Survived: Hàng khách có (1) sống sót qua thảm kịch hay không (0)?"
   ]
  },
  {
   "cell_type": "code",
   "execution_count": null,
   "metadata": {},
   "outputs": [],
   "source": [
    "def sigmoid_function(Z):\n",
    "    return 1 / (1 + np.exp(-Z))\n",
    "\n",
    "def compute_loss(y, y_hat):\n",
    "    y_hat = np.clip(y_hat, 1e-8,1 - 1e-8)\n",
    "    return  (-y * np.log(y_hat) - (1 - y) * np.log(1 - y_hat)).mean()\n",
    "\n",
    "def predict(X, theta):    \n",
    "    y_hat = sigmoid_function(np.dot(X, theta))\n",
    "    return y_hat\n",
    "\n",
    "def compute_gradient(X, y, y_hat):\n",
    "    return np.dot(X.T,(y_hat - y)) / y.size"
   ]
  },
  {
   "cell_type": "code",
   "execution_count": 37,
   "metadata": {},
   "outputs": [],
   "source": [
    "#define training, val and test sample\n",
    "training_size = .7\n",
    "val_size = .2\n",
    "test_size = .10\n",
    "\n",
    "train_samples = int(training_size * data.shape[0])\n",
    "val_samples = train_samples + int(val_size * data.shape[0])\n"
   ]
  },
  {
   "cell_type": "code",
   "execution_count": 38,
   "metadata": {},
   "outputs": [
    {
     "name": "stdout",
     "output_type": "stream",
     "text": [
      "<class 'pandas.core.frame.DataFrame'>\n",
      "<class 'numpy.ndarray'>\n",
      "<class 'numpy.ndarray'>\n"
     ]
    },
    {
     "name": "stderr",
     "output_type": "stream",
     "text": [
      "/Users/dbui/Documents/Macbook pro 2022/AIO/logistic_updated/venv/lib/python3.8/site-packages/numpy/core/fromnumeric.py:84: FutureWarning: In a future version, DataFrame.max(axis=None) will return a scalar max over the entire DataFrame. To retain the old behavior, use 'frame.max(axis=0)' or just 'frame.max()'\n",
      "  return reduction(axis=axis, out=out, **passkwargs)\n",
      "/Users/dbui/Documents/Macbook pro 2022/AIO/logistic_updated/venv/lib/python3.8/site-packages/numpy/core/fromnumeric.py:84: FutureWarning: In a future version, DataFrame.min(axis=None) will return a scalar min over the entire DataFrame. To retain the old behavior, use 'frame.min(axis=0)' or just 'frame.min()'\n",
      "  return reduction(axis=axis, out=out, **passkwargs)\n",
      "/Users/dbui/Documents/Macbook pro 2022/AIO/logistic_updated/venv/lib/python3.8/site-packages/numpy/core/fromnumeric.py:3430: FutureWarning: In a future version, DataFrame.mean(axis=None) will return a scalar mean over the entire DataFrame. To retain the old behavior, use 'frame.mean(axis=0)' or just 'frame.mean()'\n",
      "  return mean(axis=axis, dtype=dtype, out=out, **kwargs)\n"
     ]
    }
   ],
   "source": [
    "# create matrix X\n",
    "\n",
    "X = data.iloc[:,1:-1]\n",
    "m = X.shape[0]\n",
    "\n",
    "maxi = np.max(X)\n",
    "mini = np.min(X)\n",
    "avg = np.mean(X)\n",
    "X = (X-avg) / (maxi-mini)\n",
    "\n",
    "intercept = np.ones((X.shape[0],1))\n",
    "X_b = np.concatenate((intercept, X), axis=1)\n",
    "\n",
    "# create a Vector Y\n",
    "Y = np.array(data.iloc[:,-1])\n",
    "\n",
    "#create X train Y train\n",
    "X_train, Y_train = X_b[:train_samples],Y[:train_samples]\n",
    "\n",
    "#create X val, Y val\n",
    "X_val, Y_val = X_b[train_samples:val_samples],Y[train_samples:val_samples]\n",
    "\n",
    "#create X test, Y test:\n",
    "X_test, Y_test = X_b[val_samples:],Y[val_samples:]\n",
    "\n",
    "print(type(data))\n",
    "print(type(X_b))\n",
    "print(type(Y))"
   ]
  },
  {
   "cell_type": "code",
   "execution_count": 39,
   "metadata": {},
   "outputs": [],
   "source": [
    "# split data into train, validation and test\n"
   ]
  },
  {
   "cell_type": "code",
   "execution_count": 124,
   "metadata": {},
   "outputs": [],
   "source": [
    "# for _ in epoc\n",
    "# print(X_b_shuffled.shape)\n",
    "# Z = X_b_shuffled.dot(theta)\n",
    "# print(Z)\n",
    "\n",
    "def training_model(X_train, Y_train):\n",
    "    theta = np.random.normal(0.0, 0.1, (9,1))\n",
    "    Losses = []\n",
    "    accs   = []\n",
    "    for i in range(n_iters):\n",
    "        shuffled_indices = np.random.permutation(X_train.shape[0])\n",
    "        X_b_shuffled     = X_train[shuffled_indices]\n",
    "        Y_shuffled       = np.array(Y_train[shuffled_indices]).reshape(Y_train.shape[0],1)\n",
    "\n",
    "        for i in range(0, X_train.shape[0], batch_size):\n",
    "            Xi = X_b_shuffled[i:i+batch_size]\n",
    "            Yi = Y_shuffled[i:i+batch_size]\n",
    "            #predict\n",
    "            z = np.dot(Xi, theta)\n",
    "            y_batch_hat = sigmoid_function(z)\n",
    "            #compute Loss\n",
    "            loss = compute_loss(Yi, y_batch_hat)\n",
    "\n",
    "            # append Losses\n",
    "            Losses.append(loss)\n",
    "\n",
    "            # compute gradient\n",
    "            gradient = compute_gradient(Xi, Yi, y_batch_hat)\n",
    "\n",
    "            # update theta\n",
    "            theta -=  learning_rate * gradient\n",
    "\n",
    "            # compute accuracy \n",
    "            preds = predict(Xi, theta).round()\n",
    "            acc = (preds == Yi).mean()\n",
    "            accs.append(acc)\n",
    "    \n",
    "    # return Losses\n",
    "\n",
    "    # plt.plot(Losses)\n",
    "\n",
    "    fig, ax = plt.subplots(2, figsize = (12,10))\n",
    "    ax[0].plot(Losses)\n",
    "    ax[0].set(xlabel='Epoch', ylabel='Loss')\n",
    "    ax[0].set_title('Training Loss')\n",
    "\n",
    "    ax[1].plot(accs)\n",
    "    ax[1].set(xlabel='Epoch', ylabel='Accuracy')\n",
    "    ax[1].set_title('Training Accuracy')\n",
    "    \n",
    "    plt.show()\n"
   ]
  },
  {
   "cell_type": "code",
   "execution_count": 128,
   "metadata": {},
   "outputs": [
    {
     "data": {
      "image/png": "[encoded data removed]",
      "text/plain": [
       "<Figure size 1200x1000 with 2 Axes>"
      ]
     },
     "metadata": {},
     "output_type": "display_data"
    }
   ],
   "source": [
    "# Experiment 1\n",
    "n_iters = 1000\n",
    "batch_size = m\n",
    "learning_rate = 0.001\n",
    "\n",
    "training_model(X_val,Y_val)"
   ]
  },
  {
   "cell_type": "code",
   "execution_count": 131,
   "metadata": {},
   "outputs": [],
   "source": [
    "X = np.array([22.3, -1.5, 1.1, 1])\n",
    "theta1 = np.array([0.1, -0.15, 0.3, -0.2])"
   ]
  },
  {
   "cell_type": "code",
   "execution_count": 132,
   "metadata": {},
   "outputs": [
    {
     "data": {
      "text/plain": [
       "2.585"
      ]
     },
     "execution_count": 132,
     "metadata": {},
     "output_type": "execute_result"
    }
   ],
   "source": [
    "X.dot(theta1)"
   ]
  },
  {
   "cell_type": "code",
   "execution_count": 133,
   "metadata": {},
   "outputs": [
    {
     "data": {
      "text/plain": [
       "0.9298899437785819"
      ]
     },
     "execution_count": 133,
     "metadata": {},
     "output_type": "execute_result"
    }
   ],
   "source": [
    "predict(X,theta1)"
   ]
  },
  {
   "cell_type": "code",
   "execution_count": 135,
   "metadata": {},
   "outputs": [
    {
     "data": {
      "text/plain": [
       "0.5043515376900958"
      ]
     },
     "execution_count": 135,
     "metadata": {},
     "output_type": "execute_result"
    }
   ],
   "source": [
    " y = np.array([1, 0, 0, 1])\n",
    " y_hat = np.array([0.8, 0.75, 0.3, 0.95])\n",
    " compute_loss(y, y_hat)"
   ]
  },
  {
   "cell_type": "code",
   "execution_count": null,
   "metadata": {},
   "outputs": [],
   "source": []
  }
 ],
 "metadata": {
  "kernelspec": {
   "display_name": "Python 3.8.9 ('venv': venv)",
   "language": "python",
   "name": "python3"
  },
  "language_info": {
   "codemirror_mode": {
    "name": "ipython",
    "version": 3
   },
   "file_extension": ".py",
   "mimetype": "text/x-python",
   "name": "python",
   "nbconvert_exporter": "python",
   "pygments_lexer": "ipython3",
   "version": "3.8.9"
  },
  "orig_nbformat": 4,
  "vscode": {
   "interpreter": {
    "hash": "c47bb7e734f439b96d8a927b9a261d951e09d86a8cb25d148b52ec374920c543"
   }
  }
 },
 "nbformat": 4,
 "nbformat_minor": 2
}
