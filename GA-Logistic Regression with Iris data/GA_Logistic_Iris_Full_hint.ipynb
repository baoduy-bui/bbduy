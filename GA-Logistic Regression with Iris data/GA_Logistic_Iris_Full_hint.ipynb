{
 "cells": [
  {
   "cell_type": "markdown",
   "metadata": {},
   "source": [
    "# Import libraries"
   ]
  },
  {
   "cell_type": "code",
   "execution_count": 3,
   "metadata": {},
   "outputs": [
    {
     "ename": "ModuleNotFoundError",
     "evalue": "No module named 'matplotlib'",
     "output_type": "error",
     "traceback": [
      "\u001b[0;31m---------------------------------------------------------------------------\u001b[0m",
      "\u001b[0;31mModuleNotFoundError\u001b[0m                       Traceback (most recent call last)",
      "\u001b[1;32m/Users/dbui/Documents/Macbook pro 2022/AIO/GeneticAlgorithm/GAs_exercises/GA_Logistic_Iris_Full_hint.ipynb Cell 2\u001b[0m in \u001b[0;36m<cell line: 2>\u001b[0;34m()\u001b[0m\n\u001b[1;32m      <a href='vscode-notebook-cell:/Users/dbui/Documents/Macbook%20pro%202022/AIO/GeneticAlgorithm/GAs_exercises/GA_Logistic_Iris_Full_hint.ipynb#W1sZmlsZQ%3D%3D?line=0'>1</a>\u001b[0m \u001b[39mimport\u001b[39;00m \u001b[39mnumpy\u001b[39;00m \u001b[39mas\u001b[39;00m \u001b[39mnp\u001b[39;00m\n\u001b[0;32m----> <a href='vscode-notebook-cell:/Users/dbui/Documents/Macbook%20pro%202022/AIO/GeneticAlgorithm/GAs_exercises/GA_Logistic_Iris_Full_hint.ipynb#W1sZmlsZQ%3D%3D?line=1'>2</a>\u001b[0m \u001b[39mimport\u001b[39;00m \u001b[39mmatplotlib\u001b[39;00m\u001b[39m.\u001b[39;00m\u001b[39mpyplot\u001b[39;00m \u001b[39mas\u001b[39;00m \u001b[39mplt\u001b[39;00m\n\u001b[1;32m      <a href='vscode-notebook-cell:/Users/dbui/Documents/Macbook%20pro%202022/AIO/GeneticAlgorithm/GAs_exercises/GA_Logistic_Iris_Full_hint.ipynb#W1sZmlsZQ%3D%3D?line=2'>3</a>\u001b[0m \u001b[39mimport\u001b[39;00m \u001b[39mmath\u001b[39;00m\n\u001b[1;32m      <a href='vscode-notebook-cell:/Users/dbui/Documents/Macbook%20pro%202022/AIO/GeneticAlgorithm/GAs_exercises/GA_Logistic_Iris_Full_hint.ipynb#W1sZmlsZQ%3D%3D?line=3'>4</a>\u001b[0m \u001b[39mimport\u001b[39;00m \u001b[39mrandom\u001b[39;00m\n",
      "\u001b[0;31mModuleNotFoundError\u001b[0m: No module named 'matplotlib'"
     ]
    }
   ],
   "source": [
    "import numpy as np\n",
    "import matplotlib.pyplot as plt\n",
    "import math\n",
    "import random\n",
    "random.seed(0) # please do not remove this line\n",
    "\n",
    "iris = np.genfromtxt('iris_full.csv', \n",
    "                     dtype=None, \n",
    "                     delimiter=',', \n",
    "                     skip_header=1) \n",
    "X_data = iris[:, :4]\n",
    "y_data = iris[:, 4]"
   ]
  },
  {
   "cell_type": "code",
   "execution_count": null,
   "metadata": {},
   "outputs": [
    {
     "name": "stdout",
     "output_type": "stream",
     "text": [
      "(100, 5)\n",
      "[0. 0. 0. 0. 0. 0. 0. 0. 0. 0. 0. 0. 0. 0. 0. 0. 0. 0. 0. 0. 0. 0. 0. 0.\n",
      " 0. 0. 0. 0. 0. 0. 0. 0. 0. 0. 0. 0. 0. 0. 0. 0. 0. 0. 0. 0. 0. 0. 0. 0.\n",
      " 0. 0. 1. 1. 1. 1. 1. 1. 1. 1. 1. 1. 1. 1. 1. 1. 1. 1. 1. 1. 1. 1. 1. 1.\n",
      " 1. 1. 1. 1. 1. 1. 1. 1. 1. 1. 1. 1. 1. 1. 1. 1. 1. 1. 1. 1. 1. 1. 1. 1.\n",
      " 1. 1. 1. 1.]\n"
     ]
    }
   ],
   "source": [
    "intercept = np.ones((X_data.shape[0], 1))\n",
    "X_data = np.concatenate((intercept, X_data), axis=1)\n",
    "\n",
    "print(X_data.shape)\n",
    "print(y_data)"
   ]
  },
  {
   "cell_type": "markdown",
   "metadata": {},
   "source": [
    "# Huấn luyện và nhận định"
   ]
  },
  {
   "cell_type": "code",
   "execution_count": null,
   "metadata": {},
   "outputs": [],
   "source": [
    "n = 5                  # size of individual (chromosome)\n",
    "m = 500                # size of population\n",
    "n_generations = 100      # number of generations\n",
    "losses = []            # để vẽ biểu đồ quá trình tối ưu\n",
    "thetas = []\n",
    "\n",
    "def sigmoid_function(z):\n",
    "    # compute sigmoid (your code here)\n",
    "    return (1 / ( 1+ np.exp(-z)))\n",
    "\n",
    "def predict(X, theta):    \n",
    "    # compute output (your code here)\n",
    "    theta = np.array(theta)\n",
    "    z = X.dot(theta)\n",
    "    y_hat = sigmoid_function(z)\n",
    "    return y_hat\n",
    "\n",
    "def loss_function(y_hat, y):\n",
    "    y_hat = np.clip(y_hat, 1e-7, 1 - 1e-7)\n",
    "    return (-y*np.log(y_hat) - (1-y)*np.log(1-y_hat)).mean()\n",
    "    \n",
    "def generate_random_value(bound = 20):\n",
    "    return (random.random()-0.5)*bound\n",
    "\n",
    "def compute_loss(individual):\n",
    "    # compute ouput (your code here)\n",
    "    y_hat = predict(X_data, individual)\n",
    "    # compute loss (your code here)\n",
    "    loss = loss_function (y_hat, y_data)\n",
    "    return loss\n",
    "\n",
    "def compute_fitness(individual):\n",
    "    loss = compute_loss(individual)\n",
    "    fitness = 1 / (loss + 1)\n",
    "    return fitness\n",
    "\n",
    "def create_individual():\n",
    "    return [generate_random_value() for _ in range(n)]\n",
    "\n",
    "def crossover(individual1, individual2, crossover_rate = 0.9):\n",
    "    individual1_new = individual1.copy()\n",
    "    individual2_new = individual2.copy()\n",
    "    \n",
    "    for i in range(n):\n",
    "        if random.random() < crossover_rate:\n",
    "            individual1_new[i] = individual2[i]\n",
    "            individual2_new[i] = individual1[i]            \n",
    "    \n",
    "    return individual1_new, individual2_new\n",
    "\n",
    "def mutate(individual, mutation_rate = 0.05):\n",
    "    individual_m = individual.copy()\n",
    "    \n",
    "    for i in range(n):\n",
    "        if random.random() < mutation_rate:\n",
    "            individual_m[i] = generate_random_value()\n",
    "        \n",
    "    return individual_m\n",
    "\n",
    "def selection(sorted_old_population):    \n",
    "    index1 = random.randint(0, m-1)\n",
    "    index2 = random.randint(0, m-1)\n",
    "    \n",
    "    while index2 == index1:\n",
    "        index2 = random.randint(0, m-1)\n",
    "            \n",
    "    individual_s = sorted_old_population[index1]\n",
    "    if index2 > index1:\n",
    "        individual_s = sorted_old_population[index2]\n",
    "    \n",
    "    return individual_s"
   ]
  },
  {
   "cell_type": "code",
   "execution_count": null,
   "metadata": {},
   "outputs": [
    {
     "name": "stdout",
     "output_type": "stream",
     "text": [
      "Best loss: 9.703449701752973e-06 [-5.7324569526219715, -1.1724127780039661, -5.140629785096948, 8.09900337516792, 6.8705162879358905]\n",
      "Best loss: 3.8516600242430353e-07 [-7.457817501057824, 0.74404300243337, -9.596061402373088, 9.40068404830713, 9.997631184589686]\n",
      "Best loss: 3.253152353355901e-07 [-9.366713871716305, 1.2702525012084864, -9.948570744376235, 9.569091027140257, 9.997631184589686]\n",
      "Best loss: 3.2734117420373285e-07 [-8.084688350390046, 0.74404300243337, -9.596061402373088, 9.627782733851351, 9.997631184589686]\n",
      "Best loss: 2.6884303717013464e-07 [-8.961173232474067, 0.74404300243337, -9.596061402373088, 9.953908945415435, 9.997631184589686]\n",
      "Best loss: 2.6884303717013464e-07 [-8.961173232474067, 0.74404300243337, -9.596061402373088, 9.953908945415435, 9.997631184589686]\n",
      "Best loss: 2.686976951606265e-07 [-8.886746376412125, 0.74404300243337, -9.596061402373088, 9.953908945415435, 9.997631184589686]\n",
      "Best loss: 2.635010378500617e-07 [-8.886746376412125, 0.74404300243337, -9.596061402373088, 9.996800559004036, 9.997631184589686]\n",
      "Best loss: 2.630830643375418e-07 [-8.909538173779733, 0.74404300243337, -9.596061402373088, 9.996800559004036, 9.997631184589686]\n",
      "Best loss: 2.629734633759787e-07 [-8.909538173779733, 0.7344551103635899, -9.596061402373088, 9.996800559004036, 9.997631184589686]\n"
     ]
    }
   ],
   "source": [
    "##### algorithm\n",
    "# step 1: create initial population\n",
    "population = [create_individual() for _ in range(m)]\n",
    "\n",
    "#==== loops\n",
    "elitism = 2\n",
    "for i in range(n_generations):\n",
    "    sorted_population = sorted(population, key=compute_fitness)\n",
    "    \n",
    "    losses.append(compute_loss(sorted_population[m-1]))\n",
    "    thetas.append(sorted_population[m-1])\n",
    "\n",
    "    if i%10 == 0:\n",
    "        print(\"Best loss:\", compute_loss(sorted_population[m-1]), sorted_population[m-1]) \n",
    "          \n",
    "        \n",
    "    # create new_population\n",
    "    new_population = sorted_population[:elitism] \n",
    "    \n",
    "    while len(new_population) < m:\n",
    "        # selection\n",
    "        individual_s1 = selection(sorted_population)\n",
    "        individual_s2 = selection(sorted_population) # duplication\n",
    "        \n",
    "        # crossover\n",
    "        individual_c1, individual_c2 = crossover(individual_s1, individual_s2)\n",
    "        \n",
    "        # mutation\n",
    "        individual_m1 = mutate(individual_c1)\n",
    "        individual_m2 = mutate(individual_c2)\n",
    "        \n",
    "        new_population.append(individual_m1)\n",
    "        new_population.append(individual_m2)            \n",
    "            \n",
    "    # update population\n",
    "    population = new_population"
   ]
  },
  {
   "cell_type": "markdown",
   "metadata": {},
   "source": []
  },
  {
   "cell_type": "code",
   "execution_count": 4,
   "metadata": {},
   "outputs": [
    {
     "ename": "ModuleNotFoundError",
     "evalue": "No module named 'matplotlib'",
     "output_type": "error",
     "traceback": [
      "\u001b[0;31m---------------------------------------------------------------------------\u001b[0m",
      "\u001b[0;31mModuleNotFoundError\u001b[0m                       Traceback (most recent call last)",
      "\u001b[1;32m/Users/dbui/Documents/Macbook pro 2022/AIO/GeneticAlgorithm/GAs_exercises/GA_Logistic_Iris_Full_hint.ipynb Cell 8\u001b[0m in \u001b[0;36m<cell line: 1>\u001b[0;34m()\u001b[0m\n\u001b[0;32m----> <a href='vscode-notebook-cell:/Users/dbui/Documents/Macbook%20pro%202022/AIO/GeneticAlgorithm/GAs_exercises/GA_Logistic_Iris_Full_hint.ipynb#X10sZmlsZQ%3D%3D?line=0'>1</a>\u001b[0m \u001b[39mimport\u001b[39;00m \u001b[39mmatplotlib\u001b[39;00m\u001b[39m.\u001b[39;00m\u001b[39mpyplot\u001b[39;00m \u001b[39mas\u001b[39;00m \u001b[39mplt\u001b[39;00m\n\u001b[1;32m      <a href='vscode-notebook-cell:/Users/dbui/Documents/Macbook%20pro%202022/AIO/GeneticAlgorithm/GAs_exercises/GA_Logistic_Iris_Full_hint.ipynb#X10sZmlsZQ%3D%3D?line=2'>3</a>\u001b[0m plt\u001b[39m.\u001b[39mplot(losses, c\u001b[39m=\u001b[39m\u001b[39m'\u001b[39m\u001b[39mgreen\u001b[39m\u001b[39m'\u001b[39m)\n\u001b[1;32m      <a href='vscode-notebook-cell:/Users/dbui/Documents/Macbook%20pro%202022/AIO/GeneticAlgorithm/GAs_exercises/GA_Logistic_Iris_Full_hint.ipynb#X10sZmlsZQ%3D%3D?line=3'>4</a>\u001b[0m plt\u001b[39m.\u001b[39mxlabel(\u001b[39m'\u001b[39m\u001b[39mGenerations\u001b[39m\u001b[39m'\u001b[39m)\n",
      "\u001b[0;31mModuleNotFoundError\u001b[0m: No module named 'matplotlib'"
     ]
    }
   ],
   "source": [
    "import matplotlib.pyplot as plt\n",
    "\n",
    "plt.plot(losses, c='green')\n",
    "plt.xlabel('Generations')\n",
    "plt.ylabel('losses')\n",
    "plt.show()"
   ]
  },
  {
   "cell_type": "code",
   "execution_count": null,
   "metadata": {},
   "outputs": [],
   "source": [
    "print(preds)\n",
    "print(y_data)"
   ]
  },
  {
   "cell_type": "code",
   "execution_count": null,
   "metadata": {},
   "outputs": [],
   "source": []
  }
 ],
 "metadata": {
  "kernelspec": {
   "display_name": "Python 3.9.13 ('myenv')",
   "language": "python",
   "name": "python3"
  },
  "language_info": {
   "codemirror_mode": {
    "name": "ipython",
    "version": 3
   },
   "file_extension": ".py",
   "mimetype": "text/x-python",
   "name": "python",
   "nbconvert_exporter": "python",
   "pygments_lexer": "ipython3",
   "version": "3.9.13"
  },
  "vscode": {
   "interpreter": {
    "hash": "2e925a30982a6f64db7e2f3e31457f69ec15404363e72be63bc7404118077a92"
   }
  }
 },
 "nbformat": 4,
 "nbformat_minor": 2
}
