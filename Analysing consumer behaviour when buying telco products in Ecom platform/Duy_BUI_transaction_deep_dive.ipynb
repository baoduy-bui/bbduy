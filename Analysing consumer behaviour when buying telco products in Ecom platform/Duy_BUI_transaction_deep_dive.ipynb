{
 "cells": [
  {
   "cell_type": "code",
   "execution_count": 1,
   "metadata": {},
   "outputs": [],
   "source": [
    "import pandas as pd\n",
    "import numpy as np\n",
    "import matplotlib.mlab as mlab\n",
    "import matplotlib.pyplot as plt\n",
    "from matplotlib import colors\n",
    "from matplotlib.ticker import PercentFormatter\n",
    "from IPython.core.display import display, HTML\n",
    "\n",
    "# pd.set_option('float_format', '{:.2f}'.format)\n",
    "import math\n",
    "\n",
    "def amount_group ():\n",
    "    if x['amount'] <= 20000: \n",
    "        return 20000\n",
    "    elif x['amount'] <= 50000 and x['amount'] > 20000:\n",
    "        return 50000\n",
    "    elif x['amount'] < len(level_3):\n",
    "        return 'Level 3 unfinished'\n",
    "    else:\n",
    "        'All level finished'\n",
    "\n",
    "def display_side_by_side(dfs:list, captions:list):\n",
    "    \"\"\"Display tables side by side to save vertical space\n",
    "    Input:\n",
    "        dfs: list of pandas.DataFrame\n",
    "        captions: list of table captions\n",
    "    \"\"\"\n",
    "    output = \"\"\n",
    "    combined = dict(zip(captions, dfs))\n",
    "    for caption, df in combined.items():\n",
    "        output += df.style.set_table_attributes(\"style='display:inline'\").set_caption(caption)._repr_html_()\n",
    "        output += \"\\xa0\\xa0\\xa0\"\n",
    "    display(HTML(output))\n",
    "pd.options.display.float_format = '{:,.2f}'.format"
   ]
  },
  {
   "cell_type": "markdown",
   "metadata": {},
   "source": [
    "#  <font color='red'>PART 1: Loading and cleaning data set</font>"
   ]
  },
  {
   "cell_type": "code",
   "execution_count": 2,
   "metadata": {},
   "outputs": [],
   "source": [
    "## load the data set\n",
    "data = pd.read_excel(r'Loyalty BI test case  - 20201223.xlsx', sheet_name='Promotion Details')"
   ]
  },
  {
   "cell_type": "code",
   "execution_count": 3,
   "metadata": {},
   "outputs": [
    {
     "name": "stdout",
     "output_type": "stream",
     "text": [
      "<class 'pandas.core.frame.DataFrame'>\n",
      "RangeIndex: 24780 entries, 0 to 24779\n",
      "Data columns (total 13 columns):\n",
      " #   Column                 Non-Null Count  Dtype         \n",
      "---  ------                 --------------  -----         \n",
      " 0   transID                24780 non-null  int64         \n",
      " 1   Promotion Name         24780 non-null  object        \n",
      " 2   userID                 24780 non-null  int64         \n",
      " 3   amount                 24780 non-null  int64         \n",
      " 4   userCharge             24780 non-null  int64         \n",
      " 5   new Map                24780 non-null  int64         \n",
      " 6   new Pay                24780 non-null  int64         \n",
      " 7   appID                  24780 non-null  int64         \n",
      " 8   telco                  24780 non-null  object        \n",
      " 9   Thời gian giao dịch    24780 non-null  datetime64[ns]\n",
      " 10  Mã Voucher đã sử dụng  24780 non-null  object        \n",
      " 11  Giá trị khuyến mãi     24780 non-null  int64         \n",
      " 12  Unnamed: 12            0 non-null      float64       \n",
      "dtypes: datetime64[ns](1), float64(1), int64(8), object(3)\n",
      "memory usage: 2.5+ MB\n"
     ]
    }
   ],
   "source": [
    "## review the data set\n",
    "data.info()"
   ]
  },
  {
   "cell_type": "code",
   "execution_count": 4,
   "metadata": {},
   "outputs": [
    {
     "data": {
      "text/plain": [
       "['Viettel',\n",
       " 'MobiFone',\n",
       " 'Mobifone',\n",
       " 'VinaPhone',\n",
       " 'Vinaphone',\n",
       " 'Vietnamobile',\n",
       " 'GMobile',\n",
       " 'Gmobile']"
      ]
     },
     "execution_count": 4,
     "metadata": {},
     "output_type": "execute_result"
    }
   ],
   "source": [
    "data['telco'].unique().tolist()"
   ]
  },
  {
   "cell_type": "markdown",
   "metadata": {},
   "source": [
    "#### The value of telco is dupplicated so that we need to clean it before analysing it"
   ]
  },
  {
   "cell_type": "code",
   "execution_count": 4,
   "metadata": {},
   "outputs": [
    {
     "data": {
      "text/plain": [
       "['VIETTEL', 'MOBIFONE', 'VINAPHONE', 'VIETNAMOBILE', 'GMOBILE']"
      ]
     },
     "execution_count": 4,
     "metadata": {},
     "output_type": "execute_result"
    }
   ],
   "source": [
    "data['telco'] = data['telco'].str.upper() \n",
    "data['telco'].unique().tolist()"
   ]
  },
  {
   "cell_type": "markdown",
   "metadata": {},
   "source": [
    "#### The data set have total 12 variable. \n",
    "I add one more column TIME_HOUR to get information about the hour that transaction were made \n"
   ]
  },
  {
   "cell_type": "code",
   "execution_count": 6,
   "metadata": {},
   "outputs": [],
   "source": [
    "data['TIME_HOUR'] = data['Thời gian giao dịch'].dt.hour\n"
   ]
  },
  {
   "cell_type": "code",
   "execution_count": 7,
   "metadata": {},
   "outputs": [
    {
     "data": {
      "text/html": [
       "<div>\n",
       "<style scoped>\n",
       "    .dataframe tbody tr th:only-of-type {\n",
       "        vertical-align: middle;\n",
       "    }\n",
       "\n",
       "    .dataframe tbody tr th {\n",
       "        vertical-align: top;\n",
       "    }\n",
       "\n",
       "    .dataframe thead th {\n",
       "        text-align: right;\n",
       "    }\n",
       "</style>\n",
       "<table border=\"1\" class=\"dataframe\">\n",
       "  <thead>\n",
       "    <tr style=\"text-align: right;\">\n",
       "      <th></th>\n",
       "      <th>transID</th>\n",
       "      <th>userID</th>\n",
       "      <th>amount</th>\n",
       "      <th>userCharge</th>\n",
       "      <th>new Map</th>\n",
       "      <th>new Pay</th>\n",
       "      <th>appID</th>\n",
       "      <th>Giá trị khuyến mãi</th>\n",
       "      <th>Unnamed: 12</th>\n",
       "      <th>TIME_HOUR</th>\n",
       "    </tr>\n",
       "  </thead>\n",
       "  <tbody>\n",
       "    <tr>\n",
       "      <th>count</th>\n",
       "      <td>24,780.00</td>\n",
       "      <td>24,780.00</td>\n",
       "      <td>24,780.00</td>\n",
       "      <td>24,780.00</td>\n",
       "      <td>24,780.00</td>\n",
       "      <td>24,780.00</td>\n",
       "      <td>24,780.00</td>\n",
       "      <td>24,780.00</td>\n",
       "      <td>0.00</td>\n",
       "      <td>24,780.00</td>\n",
       "    </tr>\n",
       "    <tr>\n",
       "      <th>mean</th>\n",
       "      <td>200,836,146,937,965.38</td>\n",
       "      <td>193,574,419,485,689.34</td>\n",
       "      <td>46,406.90</td>\n",
       "      <td>37,262.87</td>\n",
       "      <td>0.03</td>\n",
       "      <td>0.17</td>\n",
       "      <td>25.18</td>\n",
       "      <td>9,144.71</td>\n",
       "      <td>NaN</td>\n",
       "      <td>13.94</td>\n",
       "    </tr>\n",
       "    <tr>\n",
       "      <th>std</th>\n",
       "      <td>45,365,452,414.16</td>\n",
       "      <td>8,279,561,362,724.15</td>\n",
       "      <td>54,310.19</td>\n",
       "      <td>54,278.70</td>\n",
       "      <td>0.16</td>\n",
       "      <td>0.38</td>\n",
       "      <td>21.73</td>\n",
       "      <td>1,253.38</td>\n",
       "      <td>NaN</td>\n",
       "      <td>5.38</td>\n",
       "    </tr>\n",
       "    <tr>\n",
       "      <th>min</th>\n",
       "      <td>200,729,000,103,377.00</td>\n",
       "      <td>160,822,000,000,039.00</td>\n",
       "      <td>18,500.00</td>\n",
       "      <td>9,500.00</td>\n",
       "      <td>0.00</td>\n",
       "      <td>0.00</td>\n",
       "      <td>12.00</td>\n",
       "      <td>9,000.00</td>\n",
       "      <td>NaN</td>\n",
       "      <td>0.00</td>\n",
       "    </tr>\n",
       "    <tr>\n",
       "      <th>25%</th>\n",
       "      <td>200,812,000,137,345.50</td>\n",
       "      <td>190,222,000,014,379.00</td>\n",
       "      <td>19,300.00</td>\n",
       "      <td>10,300.00</td>\n",
       "      <td>0.00</td>\n",
       "      <td>0.00</td>\n",
       "      <td>12.00</td>\n",
       "      <td>9,000.00</td>\n",
       "      <td>NaN</td>\n",
       "      <td>10.00</td>\n",
       "    </tr>\n",
       "    <tr>\n",
       "      <th>50%</th>\n",
       "      <td>200,820,000,339,070.00</td>\n",
       "      <td>200,115,000,026,871.00</td>\n",
       "      <td>19,300.00</td>\n",
       "      <td>10,300.00</td>\n",
       "      <td>0.00</td>\n",
       "      <td>0.00</td>\n",
       "      <td>12.00</td>\n",
       "      <td>9,000.00</td>\n",
       "      <td>NaN</td>\n",
       "      <td>14.00</td>\n",
       "    </tr>\n",
       "    <tr>\n",
       "      <th>75%</th>\n",
       "      <td>200,831,000,246,195.50</td>\n",
       "      <td>200,509,000,023,152.00</td>\n",
       "      <td>48,250.00</td>\n",
       "      <td>39,250.00</td>\n",
       "      <td>0.00</td>\n",
       "      <td>0.00</td>\n",
       "      <td>61.00</td>\n",
       "      <td>9,000.00</td>\n",
       "      <td>NaN</td>\n",
       "      <td>19.00</td>\n",
       "    </tr>\n",
       "    <tr>\n",
       "      <th>max</th>\n",
       "      <td>200,924,000,128,561.00</td>\n",
       "      <td>200,818,000,050,554.00</td>\n",
       "      <td>965,000.00</td>\n",
       "      <td>956,000.00</td>\n",
       "      <td>1.00</td>\n",
       "      <td>1.00</td>\n",
       "      <td>61.00</td>\n",
       "      <td>20,000.00</td>\n",
       "      <td>NaN</td>\n",
       "      <td>23.00</td>\n",
       "    </tr>\n",
       "  </tbody>\n",
       "</table>\n",
       "</div>"
      ],
      "text/plain": [
       "                     transID                 userID     amount  userCharge  \\\n",
       "count              24,780.00              24,780.00  24,780.00   24,780.00   \n",
       "mean  200,836,146,937,965.38 193,574,419,485,689.34  46,406.90   37,262.87   \n",
       "std        45,365,452,414.16   8,279,561,362,724.15  54,310.19   54,278.70   \n",
       "min   200,729,000,103,377.00 160,822,000,000,039.00  18,500.00    9,500.00   \n",
       "25%   200,812,000,137,345.50 190,222,000,014,379.00  19,300.00   10,300.00   \n",
       "50%   200,820,000,339,070.00 200,115,000,026,871.00  19,300.00   10,300.00   \n",
       "75%   200,831,000,246,195.50 200,509,000,023,152.00  48,250.00   39,250.00   \n",
       "max   200,924,000,128,561.00 200,818,000,050,554.00 965,000.00  956,000.00   \n",
       "\n",
       "        new Map   new Pay     appID  Giá trị khuyến mãi  Unnamed: 12  \\\n",
       "count 24,780.00 24,780.00 24,780.00           24,780.00         0.00   \n",
       "mean       0.03      0.17     25.18            9,144.71          NaN   \n",
       "std        0.16      0.38     21.73            1,253.38          NaN   \n",
       "min        0.00      0.00     12.00            9,000.00          NaN   \n",
       "25%        0.00      0.00     12.00            9,000.00          NaN   \n",
       "50%        0.00      0.00     12.00            9,000.00          NaN   \n",
       "75%        0.00      0.00     61.00            9,000.00          NaN   \n",
       "max        1.00      1.00     61.00           20,000.00          NaN   \n",
       "\n",
       "       TIME_HOUR  \n",
       "count  24,780.00  \n",
       "mean       13.94  \n",
       "std         5.38  \n",
       "min         0.00  \n",
       "25%        10.00  \n",
       "50%        14.00  \n",
       "75%        19.00  \n",
       "max        23.00  "
      ]
     },
     "execution_count": 7,
     "metadata": {},
     "output_type": "execute_result"
    }
   ],
   "source": [
    "## descriptive statistic\n",
    "data.describe()"
   ]
  },
  {
   "cell_type": "code",
   "execution_count": 8,
   "metadata": {},
   "outputs": [
    {
     "data": {
      "text/plain": [
       "15339"
      ]
     },
     "execution_count": 8,
     "metadata": {},
     "output_type": "execute_result"
    }
   ],
   "source": [
    "## unique userid in data set\n",
    "len(data['userID'].unique())"
   ]
  },
  {
   "cell_type": "code",
   "execution_count": 9,
   "metadata": {},
   "outputs": [
    {
     "name": "stdout",
     "output_type": "stream",
     "text": [
      "The unique value of the Amount variable 65\n",
      "The min value: 18500\n",
      "The max value: 965000\n"
     ]
    }
   ],
   "source": [
    "## number of amount \n",
    "print(\"The unique value of the Amount variable\", len(data['amount'].unique()))\n",
    "print(\"The min value:\", data['amount'].min())\n",
    "print(\"The max value:\", data['amount'].max())"
   ]
  },
  {
   "cell_type": "markdown",
   "metadata": {},
   "source": [
    "### OVERVIEW about the dataset\n",
    "There are **24,780 transactions** in this data set by **15,339 users**.\n",
    "\n",
    "The value of the **AMOUNT**\n",
    "    - The maximum value is 965,000 and the minimum amount is 18,500\n",
    "    - AVG value is about 46,407\n",
    "\n",
    "The value of the **userCharge**\n",
    "    - The maximum value is 956,000 and the minimum amount is 9,500\n",
    "    - AVG value is about 37,263\n",
    "\n",
    "The value of the **rebate amount** (Giá trị khuyến mãi)\n",
    "    - The maximum value is 20,000 and the minimum amount is 9,000\n",
    "    - AVG value is about 9,145\n"
   ]
  },
  {
   "cell_type": "markdown",
   "metadata": {},
   "source": [
    "#  <font color='red'>PART 2: Explore and deep dive the data set </font>"
   ]
  },
  {
   "cell_type": "markdown",
   "metadata": {},
   "source": [
    "### <font color='red'>Divide users who used vouchers into other segments and calculate the size of each segment</font>"
   ]
  },
  {
   "cell_type": "markdown",
   "metadata": {},
   "source": [
    "### <font color='blue'>1.1) By TIME that tansactions made </font>"
   ]
  },
  {
   "cell_type": "code",
   "execution_count": 10,
   "metadata": {},
   "outputs": [
    {
     "data": {
      "text/plain": [
       "(array([ 400.,  230.,  152.,  116.,  105.,  128.,  403.,  771., 1597.,\n",
       "        1701., 1681., 1794., 1429., 1192., 1392., 1403., 1369., 1284.,\n",
       "        1353., 1485., 1543., 1433., 1146.,  673.]),\n",
       " array([ 0.        ,  0.95833333,  1.91666667,  2.875     ,  3.83333333,\n",
       "         4.79166667,  5.75      ,  6.70833333,  7.66666667,  8.625     ,\n",
       "         9.58333333, 10.54166667, 11.5       , 12.45833333, 13.41666667,\n",
       "        14.375     , 15.33333333, 16.29166667, 17.25      , 18.20833333,\n",
       "        19.16666667, 20.125     , 21.08333333, 22.04166667, 23.        ]),\n",
       " <BarContainer object of 24 artists>)"
      ]
     },
     "execution_count": 10,
     "metadata": {},
     "output_type": "execute_result"
    },
    {
     "data": {
      "image/png": "[encoded data removed]",
      "text/plain": [
       "<Figure size 432x288 with 1 Axes>"
      ]
     },
     "metadata": {
      "needs_background": "light"
     },
     "output_type": "display_data"
    }
   ],
   "source": [
    "data_by_hour = data['TIME_HOUR']\n",
    "bins = np.array(range(23))\n",
    "plt.hist(data_by_hour, bins=24)"
   ]
  },
  {
   "cell_type": "code",
   "execution_count": 11,
   "metadata": {},
   "outputs": [],
   "source": [
    "## top number of transactions by hour"
   ]
  },
  {
   "cell_type": "code",
   "execution_count": 12,
   "metadata": {},
   "outputs": [
    {
     "data": {
      "text/html": [
       "<style  type=\"text/css\" >\n",
       "</style><table id=\"T_c1300_\" style='display:inline'><caption>Top 10</caption><thead>    <tr>        <th class=\"blank level0\" ></th>        <th class=\"col_heading level0 col0\" >transID</th>    </tr>    <tr>        <th class=\"index_name level0\" >TIME_HOUR</th>        <th class=\"blank\" ></th>    </tr></thead><tbody>\n",
       "                <tr>\n",
       "                        <th id=\"T_c1300_level0_row0\" class=\"row_heading level0 row0\" >11</th>\n",
       "                        <td id=\"T_c1300_row0_col0\" class=\"data row0 col0\" >1794</td>\n",
       "            </tr>\n",
       "            <tr>\n",
       "                        <th id=\"T_c1300_level0_row1\" class=\"row_heading level0 row1\" >9</th>\n",
       "                        <td id=\"T_c1300_row1_col0\" class=\"data row1 col0\" >1701</td>\n",
       "            </tr>\n",
       "            <tr>\n",
       "                        <th id=\"T_c1300_level0_row2\" class=\"row_heading level0 row2\" >10</th>\n",
       "                        <td id=\"T_c1300_row2_col0\" class=\"data row2 col0\" >1681</td>\n",
       "            </tr>\n",
       "            <tr>\n",
       "                        <th id=\"T_c1300_level0_row3\" class=\"row_heading level0 row3\" >8</th>\n",
       "                        <td id=\"T_c1300_row3_col0\" class=\"data row3 col0\" >1597</td>\n",
       "            </tr>\n",
       "            <tr>\n",
       "                        <th id=\"T_c1300_level0_row4\" class=\"row_heading level0 row4\" >20</th>\n",
       "                        <td id=\"T_c1300_row4_col0\" class=\"data row4 col0\" >1543</td>\n",
       "            </tr>\n",
       "            <tr>\n",
       "                        <th id=\"T_c1300_level0_row5\" class=\"row_heading level0 row5\" >19</th>\n",
       "                        <td id=\"T_c1300_row5_col0\" class=\"data row5 col0\" >1485</td>\n",
       "            </tr>\n",
       "            <tr>\n",
       "                        <th id=\"T_c1300_level0_row6\" class=\"row_heading level0 row6\" >21</th>\n",
       "                        <td id=\"T_c1300_row6_col0\" class=\"data row6 col0\" >1433</td>\n",
       "            </tr>\n",
       "            <tr>\n",
       "                        <th id=\"T_c1300_level0_row7\" class=\"row_heading level0 row7\" >12</th>\n",
       "                        <td id=\"T_c1300_row7_col0\" class=\"data row7 col0\" >1429</td>\n",
       "            </tr>\n",
       "            <tr>\n",
       "                        <th id=\"T_c1300_level0_row8\" class=\"row_heading level0 row8\" >15</th>\n",
       "                        <td id=\"T_c1300_row8_col0\" class=\"data row8 col0\" >1403</td>\n",
       "            </tr>\n",
       "            <tr>\n",
       "                        <th id=\"T_c1300_level0_row9\" class=\"row_heading level0 row9\" >14</th>\n",
       "                        <td id=\"T_c1300_row9_col0\" class=\"data row9 col0\" >1392</td>\n",
       "            </tr>\n",
       "    </tbody></table>   <style  type=\"text/css\" >\n",
       "</style><table id=\"T_7ab4c_\" style='display:inline'><caption>Bottom 10</caption><thead>    <tr>        <th class=\"blank level0\" ></th>        <th class=\"col_heading level0 col0\" >transID</th>    </tr>    <tr>        <th class=\"index_name level0\" >TIME_HOUR</th>        <th class=\"blank\" ></th>    </tr></thead><tbody>\n",
       "                <tr>\n",
       "                        <th id=\"T_7ab4c_level0_row0\" class=\"row_heading level0 row0\" >4</th>\n",
       "                        <td id=\"T_7ab4c_row0_col0\" class=\"data row0 col0\" >105</td>\n",
       "            </tr>\n",
       "            <tr>\n",
       "                        <th id=\"T_7ab4c_level0_row1\" class=\"row_heading level0 row1\" >3</th>\n",
       "                        <td id=\"T_7ab4c_row1_col0\" class=\"data row1 col0\" >116</td>\n",
       "            </tr>\n",
       "            <tr>\n",
       "                        <th id=\"T_7ab4c_level0_row2\" class=\"row_heading level0 row2\" >5</th>\n",
       "                        <td id=\"T_7ab4c_row2_col0\" class=\"data row2 col0\" >128</td>\n",
       "            </tr>\n",
       "            <tr>\n",
       "                        <th id=\"T_7ab4c_level0_row3\" class=\"row_heading level0 row3\" >2</th>\n",
       "                        <td id=\"T_7ab4c_row3_col0\" class=\"data row3 col0\" >152</td>\n",
       "            </tr>\n",
       "            <tr>\n",
       "                        <th id=\"T_7ab4c_level0_row4\" class=\"row_heading level0 row4\" >1</th>\n",
       "                        <td id=\"T_7ab4c_row4_col0\" class=\"data row4 col0\" >230</td>\n",
       "            </tr>\n",
       "            <tr>\n",
       "                        <th id=\"T_7ab4c_level0_row5\" class=\"row_heading level0 row5\" >0</th>\n",
       "                        <td id=\"T_7ab4c_row5_col0\" class=\"data row5 col0\" >400</td>\n",
       "            </tr>\n",
       "            <tr>\n",
       "                        <th id=\"T_7ab4c_level0_row6\" class=\"row_heading level0 row6\" >6</th>\n",
       "                        <td id=\"T_7ab4c_row6_col0\" class=\"data row6 col0\" >403</td>\n",
       "            </tr>\n",
       "            <tr>\n",
       "                        <th id=\"T_7ab4c_level0_row7\" class=\"row_heading level0 row7\" >23</th>\n",
       "                        <td id=\"T_7ab4c_row7_col0\" class=\"data row7 col0\" >673</td>\n",
       "            </tr>\n",
       "            <tr>\n",
       "                        <th id=\"T_7ab4c_level0_row8\" class=\"row_heading level0 row8\" >7</th>\n",
       "                        <td id=\"T_7ab4c_row8_col0\" class=\"data row8 col0\" >771</td>\n",
       "            </tr>\n",
       "            <tr>\n",
       "                        <th id=\"T_7ab4c_level0_row9\" class=\"row_heading level0 row9\" >22</th>\n",
       "                        <td id=\"T_7ab4c_row9_col0\" class=\"data row9 col0\" >1146</td>\n",
       "            </tr>\n",
       "    </tbody></table>   "
      ],
      "text/plain": [
       "<IPython.core.display.HTML object>"
      ]
     },
     "metadata": {},
     "output_type": "display_data"
    }
   ],
   "source": [
    "data_by_hour = data[['transID','TIME_HOUR']].groupby(['TIME_HOUR']).count()\n",
    "data_by_hour.nlargest(10,'transID')\n",
    "display_side_by_side([data_by_hour.nlargest(10,'transID'),data_by_hour.nsmallest(10,'transID')],['Top 10','Bottom 10'])\n"
   ]
  },
  {
   "cell_type": "markdown",
   "metadata": {},
   "source": [
    "#### Sumary:\n",
    "- Overall, most transactions are distributed from **8 am to 8 pm**. \n",
    "- The number of the transaction happened from **the 8 am to 11 am** (Morning working shift) account for **6,773** transactions (Top 4)\n",
    "- **From 7 pm to 9 pm** (After working hour), there were **4,461** transactions \n",
    "- There only **1,534** transactions happened from **0 am to 8 am**\n",
    "\n",
    "#### Insights:\n",
    "- It should be noticed that customers have a higher tendency to use A Pay in **the morning working shift** or **after working hours**. Based on this behavior, we can boost the number of the transaction by **pushing notifications or booking (sliding) banners, floating icon** for more visibility during that period. **For example**, we can send notifications around **9 or 11 am** which have the highest and second-highest of transactions in the day. It is strongly believed that people have a higher tendency to check their phone during this time and they can see A Pay promotion program.\n",
    "\n",
    "\n",
    "- On the other hand, people are not willing to use A Pay in other periods. A Pay can offer them a more attractive voucher that can be **limited used in specific hours**. For example, **\"Night Owl\" Telco voucher 20% cap 30k** that can be applied from 0 to 5 am. With this special voucher, we can raise the traffic for the A Pay app and reduce cannibalization. However, CPO should be carefully considered. \n",
    "\n",
    "#### To get more insights about the customer behavior according to transaction time. We can divide customers into 2 groups \"new\" and \"old\" customers."
   ]
  },
  {
   "cell_type": "code",
   "execution_count": 13,
   "metadata": {
    "scrolled": true
   },
   "outputs": [
    {
     "data": {
      "text/html": [
       "<style  type=\"text/css\" >\n",
       "</style><table id=\"T_92356_\" style='display:inline'><caption>New User</caption><thead>    <tr>        <th class=\"blank\" ></th>        <th class=\"blank level0\" ></th>        <th class=\"col_heading level0 col0\" >transID</th>    </tr>    <tr>        <th class=\"index_name level0\" >TIME_HOUR</th>        <th class=\"index_name level1\" >new Pay</th>        <th class=\"blank\" ></th>    </tr></thead><tbody>\n",
       "                <tr>\n",
       "                        <th id=\"T_92356_level0_row0\" class=\"row_heading level0 row0\" >12</th>\n",
       "                        <th id=\"T_92356_level1_row0\" class=\"row_heading level1 row0\" >1</th>\n",
       "                        <td id=\"T_92356_row0_col0\" class=\"data row0 col0\" >288</td>\n",
       "            </tr>\n",
       "            <tr>\n",
       "                        <th id=\"T_92356_level0_row1\" class=\"row_heading level0 row1\" >11</th>\n",
       "                        <th id=\"T_92356_level1_row1\" class=\"row_heading level1 row1\" >1</th>\n",
       "                        <td id=\"T_92356_row1_col0\" class=\"data row1 col0\" >271</td>\n",
       "            </tr>\n",
       "            <tr>\n",
       "                        <th id=\"T_92356_level0_row2\" class=\"row_heading level0 row2\" >20</th>\n",
       "                        <th id=\"T_92356_level1_row2\" class=\"row_heading level1 row2\" >1</th>\n",
       "                        <td id=\"T_92356_row2_col0\" class=\"data row2 col0\" >267</td>\n",
       "            </tr>\n",
       "            <tr>\n",
       "                        <th id=\"T_92356_level0_row3\" class=\"row_heading level0 row3\" >14</th>\n",
       "                        <th id=\"T_92356_level1_row3\" class=\"row_heading level1 row3\" >1</th>\n",
       "                        <td id=\"T_92356_row3_col0\" class=\"data row3 col0\" >261</td>\n",
       "            </tr>\n",
       "            <tr>\n",
       "                        <th id=\"T_92356_level0_row4\" class=\"row_heading level0 row4\" >19</th>\n",
       "                        <th id=\"T_92356_level1_row4\" class=\"row_heading level1 row4\" >1</th>\n",
       "                        <td id=\"T_92356_row4_col0\" class=\"data row4 col0\" >259</td>\n",
       "            </tr>\n",
       "            <tr>\n",
       "                        <th id=\"T_92356_level0_row5\" class=\"row_heading level0 row5\" >18</th>\n",
       "                        <th id=\"T_92356_level1_row5\" class=\"row_heading level1 row5\" >1</th>\n",
       "                        <td id=\"T_92356_row5_col0\" class=\"data row5 col0\" >253</td>\n",
       "            </tr>\n",
       "            <tr>\n",
       "                        <th id=\"T_92356_level0_row6\" class=\"row_heading level0 row6\" >16</th>\n",
       "                        <th id=\"T_92356_level1_row6\" class=\"row_heading level1 row6\" >1</th>\n",
       "                        <td id=\"T_92356_row6_col0\" class=\"data row6 col0\" >252</td>\n",
       "            </tr>\n",
       "            <tr>\n",
       "                        <th id=\"T_92356_level0_row7\" class=\"row_heading level0 row7\" >21</th>\n",
       "                        <th id=\"T_92356_level1_row7\" class=\"row_heading level1 row7\" >1</th>\n",
       "                        <td id=\"T_92356_row7_col0\" class=\"data row7 col0\" >251</td>\n",
       "            </tr>\n",
       "            <tr>\n",
       "                        <th id=\"T_92356_level0_row8\" class=\"row_heading level0 row8\" >10</th>\n",
       "                        <th id=\"T_92356_level1_row8\" class=\"row_heading level1 row8\" >1</th>\n",
       "                        <td id=\"T_92356_row8_col0\" class=\"data row8 col0\" >234</td>\n",
       "            </tr>\n",
       "            <tr>\n",
       "                        <th id=\"T_92356_level0_row9\" class=\"row_heading level0 row9\" >9</th>\n",
       "                        <th id=\"T_92356_level1_row9\" class=\"row_heading level1 row9\" >1</th>\n",
       "                        <td id=\"T_92356_row9_col0\" class=\"data row9 col0\" >232</td>\n",
       "            </tr>\n",
       "            <tr>\n",
       "                        <th id=\"T_92356_level0_row10\" class=\"row_heading level0 row10\" >8</th>\n",
       "                        <th id=\"T_92356_level1_row10\" class=\"row_heading level1 row10\" >1</th>\n",
       "                        <td id=\"T_92356_row10_col0\" class=\"data row10 col0\" >230</td>\n",
       "            </tr>\n",
       "            <tr>\n",
       "                        <th id=\"T_92356_level0_row11\" class=\"row_heading level0 row11\" >15</th>\n",
       "                        <th id=\"T_92356_level1_row11\" class=\"row_heading level1 row11\" >1</th>\n",
       "                        <td id=\"T_92356_row11_col0\" class=\"data row11 col0\" >229</td>\n",
       "            </tr>\n",
       "            <tr>\n",
       "                        <th id=\"T_92356_level0_row12\" class=\"row_heading level0 row12\" >17</th>\n",
       "                        <th id=\"T_92356_level1_row12\" class=\"row_heading level1 row12\" >1</th>\n",
       "                        <td id=\"T_92356_row12_col0\" class=\"data row12 col0\" >224</td>\n",
       "            </tr>\n",
       "            <tr>\n",
       "                        <th id=\"T_92356_level0_row13\" class=\"row_heading level0 row13\" >13</th>\n",
       "                        <th id=\"T_92356_level1_row13\" class=\"row_heading level1 row13\" >1</th>\n",
       "                        <td id=\"T_92356_row13_col0\" class=\"data row13 col0\" >216</td>\n",
       "            </tr>\n",
       "            <tr>\n",
       "                        <th id=\"T_92356_level0_row14\" class=\"row_heading level0 row14\" >22</th>\n",
       "                        <th id=\"T_92356_level1_row14\" class=\"row_heading level1 row14\" >1</th>\n",
       "                        <td id=\"T_92356_row14_col0\" class=\"data row14 col0\" >184</td>\n",
       "            </tr>\n",
       "            <tr>\n",
       "                        <th id=\"T_92356_level0_row15\" class=\"row_heading level0 row15\" >23</th>\n",
       "                        <th id=\"T_92356_level1_row15\" class=\"row_heading level1 row15\" >1</th>\n",
       "                        <td id=\"T_92356_row15_col0\" class=\"data row15 col0\" >139</td>\n",
       "            </tr>\n",
       "            <tr>\n",
       "                        <th id=\"T_92356_level0_row16\" class=\"row_heading level0 row16\" >7</th>\n",
       "                        <th id=\"T_92356_level1_row16\" class=\"row_heading level1 row16\" >1</th>\n",
       "                        <td id=\"T_92356_row16_col0\" class=\"data row16 col0\" >124</td>\n",
       "            </tr>\n",
       "            <tr>\n",
       "                        <th id=\"T_92356_level0_row17\" class=\"row_heading level0 row17\" >6</th>\n",
       "                        <th id=\"T_92356_level1_row17\" class=\"row_heading level1 row17\" >1</th>\n",
       "                        <td id=\"T_92356_row17_col0\" class=\"data row17 col0\" >81</td>\n",
       "            </tr>\n",
       "            <tr>\n",
       "                        <th id=\"T_92356_level0_row18\" class=\"row_heading level0 row18\" >0</th>\n",
       "                        <th id=\"T_92356_level1_row18\" class=\"row_heading level1 row18\" >1</th>\n",
       "                        <td id=\"T_92356_row18_col0\" class=\"data row18 col0\" >69</td>\n",
       "            </tr>\n",
       "            <tr>\n",
       "                        <th id=\"T_92356_level0_row19\" class=\"row_heading level0 row19\" >1</th>\n",
       "                        <th id=\"T_92356_level1_row19\" class=\"row_heading level1 row19\" >1</th>\n",
       "                        <td id=\"T_92356_row19_col0\" class=\"data row19 col0\" >55</td>\n",
       "            </tr>\n",
       "            <tr>\n",
       "                        <th id=\"T_92356_level0_row20\" class=\"row_heading level0 row20\" >2</th>\n",
       "                        <th id=\"T_92356_level1_row20\" class=\"row_heading level1 row20\" >1</th>\n",
       "                        <td id=\"T_92356_row20_col0\" class=\"data row20 col0\" >36</td>\n",
       "            </tr>\n",
       "            <tr>\n",
       "                        <th id=\"T_92356_level0_row21\" class=\"row_heading level0 row21\" >5</th>\n",
       "                        <th id=\"T_92356_level1_row21\" class=\"row_heading level1 row21\" >1</th>\n",
       "                        <td id=\"T_92356_row21_col0\" class=\"data row21 col0\" >33</td>\n",
       "            </tr>\n",
       "            <tr>\n",
       "                        <th id=\"T_92356_level0_row22\" class=\"row_heading level0 row22\" >3</th>\n",
       "                        <th id=\"T_92356_level1_row22\" class=\"row_heading level1 row22\" >1</th>\n",
       "                        <td id=\"T_92356_row22_col0\" class=\"data row22 col0\" >30</td>\n",
       "            </tr>\n",
       "            <tr>\n",
       "                        <th id=\"T_92356_level0_row23\" class=\"row_heading level0 row23\" >4</th>\n",
       "                        <th id=\"T_92356_level1_row23\" class=\"row_heading level1 row23\" >1</th>\n",
       "                        <td id=\"T_92356_row23_col0\" class=\"data row23 col0\" >25</td>\n",
       "            </tr>\n",
       "    </tbody></table>   <style  type=\"text/css\" >\n",
       "</style><table id=\"T_9887f_\" style='display:inline'><caption>Old User</caption><thead>    <tr>        <th class=\"blank\" ></th>        <th class=\"blank level0\" ></th>        <th class=\"col_heading level0 col0\" >transID</th>    </tr>    <tr>        <th class=\"index_name level0\" >TIME_HOUR</th>        <th class=\"index_name level1\" >new Pay</th>        <th class=\"blank\" ></th>    </tr></thead><tbody>\n",
       "                <tr>\n",
       "                        <th id=\"T_9887f_level0_row0\" class=\"row_heading level0 row0\" >11</th>\n",
       "                        <th id=\"T_9887f_level1_row0\" class=\"row_heading level1 row0\" >0</th>\n",
       "                        <td id=\"T_9887f_row0_col0\" class=\"data row0 col0\" >1523</td>\n",
       "            </tr>\n",
       "            <tr>\n",
       "                        <th id=\"T_9887f_level0_row1\" class=\"row_heading level0 row1\" >9</th>\n",
       "                        <th id=\"T_9887f_level1_row1\" class=\"row_heading level1 row1\" >0</th>\n",
       "                        <td id=\"T_9887f_row1_col0\" class=\"data row1 col0\" >1469</td>\n",
       "            </tr>\n",
       "            <tr>\n",
       "                        <th id=\"T_9887f_level0_row2\" class=\"row_heading level0 row2\" >10</th>\n",
       "                        <th id=\"T_9887f_level1_row2\" class=\"row_heading level1 row2\" >0</th>\n",
       "                        <td id=\"T_9887f_row2_col0\" class=\"data row2 col0\" >1447</td>\n",
       "            </tr>\n",
       "            <tr>\n",
       "                        <th id=\"T_9887f_level0_row3\" class=\"row_heading level0 row3\" >8</th>\n",
       "                        <th id=\"T_9887f_level1_row3\" class=\"row_heading level1 row3\" >0</th>\n",
       "                        <td id=\"T_9887f_row3_col0\" class=\"data row3 col0\" >1367</td>\n",
       "            </tr>\n",
       "            <tr>\n",
       "                        <th id=\"T_9887f_level0_row4\" class=\"row_heading level0 row4\" >20</th>\n",
       "                        <th id=\"T_9887f_level1_row4\" class=\"row_heading level1 row4\" >0</th>\n",
       "                        <td id=\"T_9887f_row4_col0\" class=\"data row4 col0\" >1276</td>\n",
       "            </tr>\n",
       "            <tr>\n",
       "                        <th id=\"T_9887f_level0_row5\" class=\"row_heading level0 row5\" >19</th>\n",
       "                        <th id=\"T_9887f_level1_row5\" class=\"row_heading level1 row5\" >0</th>\n",
       "                        <td id=\"T_9887f_row5_col0\" class=\"data row5 col0\" >1226</td>\n",
       "            </tr>\n",
       "            <tr>\n",
       "                        <th id=\"T_9887f_level0_row6\" class=\"row_heading level0 row6\" >21</th>\n",
       "                        <th id=\"T_9887f_level1_row6\" class=\"row_heading level1 row6\" >0</th>\n",
       "                        <td id=\"T_9887f_row6_col0\" class=\"data row6 col0\" >1182</td>\n",
       "            </tr>\n",
       "            <tr>\n",
       "                        <th id=\"T_9887f_level0_row7\" class=\"row_heading level0 row7\" >15</th>\n",
       "                        <th id=\"T_9887f_level1_row7\" class=\"row_heading level1 row7\" >0</th>\n",
       "                        <td id=\"T_9887f_row7_col0\" class=\"data row7 col0\" >1174</td>\n",
       "            </tr>\n",
       "            <tr>\n",
       "                        <th id=\"T_9887f_level0_row8\" class=\"row_heading level0 row8\" >12</th>\n",
       "                        <th id=\"T_9887f_level1_row8\" class=\"row_heading level1 row8\" >0</th>\n",
       "                        <td id=\"T_9887f_row8_col0\" class=\"data row8 col0\" >1141</td>\n",
       "            </tr>\n",
       "            <tr>\n",
       "                        <th id=\"T_9887f_level0_row9\" class=\"row_heading level0 row9\" >14</th>\n",
       "                        <th id=\"T_9887f_level1_row9\" class=\"row_heading level1 row9\" >0</th>\n",
       "                        <td id=\"T_9887f_row9_col0\" class=\"data row9 col0\" >1131</td>\n",
       "            </tr>\n",
       "            <tr>\n",
       "                        <th id=\"T_9887f_level0_row10\" class=\"row_heading level0 row10\" >16</th>\n",
       "                        <th id=\"T_9887f_level1_row10\" class=\"row_heading level1 row10\" >0</th>\n",
       "                        <td id=\"T_9887f_row10_col0\" class=\"data row10 col0\" >1117</td>\n",
       "            </tr>\n",
       "            <tr>\n",
       "                        <th id=\"T_9887f_level0_row11\" class=\"row_heading level0 row11\" >18</th>\n",
       "                        <th id=\"T_9887f_level1_row11\" class=\"row_heading level1 row11\" >0</th>\n",
       "                        <td id=\"T_9887f_row11_col0\" class=\"data row11 col0\" >1100</td>\n",
       "            </tr>\n",
       "            <tr>\n",
       "                        <th id=\"T_9887f_level0_row12\" class=\"row_heading level0 row12\" >17</th>\n",
       "                        <th id=\"T_9887f_level1_row12\" class=\"row_heading level1 row12\" >0</th>\n",
       "                        <td id=\"T_9887f_row12_col0\" class=\"data row12 col0\" >1060</td>\n",
       "            </tr>\n",
       "            <tr>\n",
       "                        <th id=\"T_9887f_level0_row13\" class=\"row_heading level0 row13\" >13</th>\n",
       "                        <th id=\"T_9887f_level1_row13\" class=\"row_heading level1 row13\" >0</th>\n",
       "                        <td id=\"T_9887f_row13_col0\" class=\"data row13 col0\" >976</td>\n",
       "            </tr>\n",
       "            <tr>\n",
       "                        <th id=\"T_9887f_level0_row14\" class=\"row_heading level0 row14\" >22</th>\n",
       "                        <th id=\"T_9887f_level1_row14\" class=\"row_heading level1 row14\" >0</th>\n",
       "                        <td id=\"T_9887f_row14_col0\" class=\"data row14 col0\" >962</td>\n",
       "            </tr>\n",
       "            <tr>\n",
       "                        <th id=\"T_9887f_level0_row15\" class=\"row_heading level0 row15\" >7</th>\n",
       "                        <th id=\"T_9887f_level1_row15\" class=\"row_heading level1 row15\" >0</th>\n",
       "                        <td id=\"T_9887f_row15_col0\" class=\"data row15 col0\" >647</td>\n",
       "            </tr>\n",
       "            <tr>\n",
       "                        <th id=\"T_9887f_level0_row16\" class=\"row_heading level0 row16\" >23</th>\n",
       "                        <th id=\"T_9887f_level1_row16\" class=\"row_heading level1 row16\" >0</th>\n",
       "                        <td id=\"T_9887f_row16_col0\" class=\"data row16 col0\" >534</td>\n",
       "            </tr>\n",
       "            <tr>\n",
       "                        <th id=\"T_9887f_level0_row17\" class=\"row_heading level0 row17\" >0</th>\n",
       "                        <th id=\"T_9887f_level1_row17\" class=\"row_heading level1 row17\" >0</th>\n",
       "                        <td id=\"T_9887f_row17_col0\" class=\"data row17 col0\" >331</td>\n",
       "            </tr>\n",
       "            <tr>\n",
       "                        <th id=\"T_9887f_level0_row18\" class=\"row_heading level0 row18\" >6</th>\n",
       "                        <th id=\"T_9887f_level1_row18\" class=\"row_heading level1 row18\" >0</th>\n",
       "                        <td id=\"T_9887f_row18_col0\" class=\"data row18 col0\" >322</td>\n",
       "            </tr>\n",
       "            <tr>\n",
       "                        <th id=\"T_9887f_level0_row19\" class=\"row_heading level0 row19\" >1</th>\n",
       "                        <th id=\"T_9887f_level1_row19\" class=\"row_heading level1 row19\" >0</th>\n",
       "                        <td id=\"T_9887f_row19_col0\" class=\"data row19 col0\" >175</td>\n",
       "            </tr>\n",
       "            <tr>\n",
       "                        <th id=\"T_9887f_level0_row20\" class=\"row_heading level0 row20\" >2</th>\n",
       "                        <th id=\"T_9887f_level1_row20\" class=\"row_heading level1 row20\" >0</th>\n",
       "                        <td id=\"T_9887f_row20_col0\" class=\"data row20 col0\" >116</td>\n",
       "            </tr>\n",
       "            <tr>\n",
       "                        <th id=\"T_9887f_level0_row21\" class=\"row_heading level0 row21\" >5</th>\n",
       "                        <th id=\"T_9887f_level1_row21\" class=\"row_heading level1 row21\" >0</th>\n",
       "                        <td id=\"T_9887f_row21_col0\" class=\"data row21 col0\" >95</td>\n",
       "            </tr>\n",
       "            <tr>\n",
       "                        <th id=\"T_9887f_level0_row22\" class=\"row_heading level0 row22\" >3</th>\n",
       "                        <th id=\"T_9887f_level1_row22\" class=\"row_heading level1 row22\" >0</th>\n",
       "                        <td id=\"T_9887f_row22_col0\" class=\"data row22 col0\" >86</td>\n",
       "            </tr>\n",
       "            <tr>\n",
       "                        <th id=\"T_9887f_level0_row23\" class=\"row_heading level0 row23\" >4</th>\n",
       "                        <th id=\"T_9887f_level1_row23\" class=\"row_heading level1 row23\" >0</th>\n",
       "                        <td id=\"T_9887f_row23_col0\" class=\"data row23 col0\" >80</td>\n",
       "            </tr>\n",
       "    </tbody></table>   "
      ],
      "text/plain": [
       "<IPython.core.display.HTML object>"
      ]
     },
     "metadata": {},
     "output_type": "display_data"
    }
   ],
   "source": [
    "data_new_by_hour = data[data['new Pay']==1].copy()\n",
    "data_new_by_hour = data_new_by_hour[['transID','TIME_HOUR','new Pay']].groupby(['TIME_HOUR','new Pay']).count().sort_values(by=['transID'], ascending=False)\n",
    "data_old_by_hour = data[data['new Pay']==0].copy()\n",
    "data_old_by_hour = data_old_by_hour[['transID','TIME_HOUR','new Pay']].groupby(['TIME_HOUR','new Pay']).count().sort_values(by=['transID'], ascending=False)\n",
    "display_side_by_side([data_new_by_hour, data_old_by_hour], ['New User','Old User'])\n"
   ]
  },
  {
   "cell_type": "markdown",
   "metadata": {},
   "source": [
    "#### Sumary:\n",
    "- The new user mostly made their first transaction from **11 am to 2 pm (break-time)** and **after working hours (from 6 pm to 8 pm)**\n",
    "- There only **453** transactions happened from **0 am to 8 am**\n",
    "\n",
    "#### Insights:\n",
    "- It should be noticed that new customers have a **high tendency to make their first order during break time or working hours**. Based on these numbers, A Pay can focus on sending notifications for new users during this period, which can raise their awareness about the A Promotion program.\n",
    "\n",
    "\n",
    "- Besides that, the number of new users is quite low compared to that of old users. If A Pay focuses on acquiring more customers. Some special scheme should be offered for this group. Specifically, there are only **2 kinds of VC** in this campaign **20 k** and **9k** which are not attracting new customers. For example, AirPay will give new users **100% VC coin cashback- CAP 50k**  when they buy their first digital product on Air Pay. A Pay should modify the promotion scheme for new users which can compete against other E-wallet."
   ]
  },
  {
   "cell_type": "markdown",
   "metadata": {},
   "source": [
    "### <font color='blue'>1.2) By Rebate amount and Mobile network carriers </font>"
   ]
  },
  {
   "cell_type": "markdown",
   "metadata": {},
   "source": [
    "#### A Pay sponsored 9k or 20k for each transaction. Therefore, we can break down user into 2 segments: 9k VC and 20k VC"
   ]
  },
  {
   "cell_type": "code",
   "execution_count": 14,
   "metadata": {},
   "outputs": [
    {
     "data": {
      "text/html": [
       "<div>\n",
       "<style scoped>\n",
       "    .dataframe tbody tr th:only-of-type {\n",
       "        vertical-align: middle;\n",
       "    }\n",
       "\n",
       "    .dataframe tbody tr th {\n",
       "        vertical-align: top;\n",
       "    }\n",
       "\n",
       "    .dataframe thead th {\n",
       "        text-align: right;\n",
       "    }\n",
       "</style>\n",
       "<table border=\"1\" class=\"dataframe\">\n",
       "  <thead>\n",
       "    <tr style=\"text-align: right;\">\n",
       "      <th></th>\n",
       "      <th></th>\n",
       "      <th>transID</th>\n",
       "      <th>userID</th>\n",
       "      <th>Usage Ratio</th>\n",
       "    </tr>\n",
       "    <tr>\n",
       "      <th>Giá trị khuyến mãi</th>\n",
       "      <th>telco</th>\n",
       "      <th></th>\n",
       "      <th></th>\n",
       "      <th></th>\n",
       "    </tr>\n",
       "  </thead>\n",
       "  <tbody>\n",
       "    <tr>\n",
       "      <th rowspan=\"4\" valign=\"top\">20000</th>\n",
       "      <th>VIETTEL</th>\n",
       "      <td>194</td>\n",
       "      <td>194</td>\n",
       "      <td>1.00</td>\n",
       "    </tr>\n",
       "    <tr>\n",
       "      <th>MOBIFONE</th>\n",
       "      <td>73</td>\n",
       "      <td>73</td>\n",
       "      <td>1.00</td>\n",
       "    </tr>\n",
       "    <tr>\n",
       "      <th>VINAPHONE</th>\n",
       "      <td>52</td>\n",
       "      <td>52</td>\n",
       "      <td>1.00</td>\n",
       "    </tr>\n",
       "    <tr>\n",
       "      <th>VIETNAMOBILE</th>\n",
       "      <td>7</td>\n",
       "      <td>7</td>\n",
       "      <td>1.00</td>\n",
       "    </tr>\n",
       "    <tr>\n",
       "      <th rowspan=\"5\" valign=\"top\">9000</th>\n",
       "      <th>VIETTEL</th>\n",
       "      <td>13508</td>\n",
       "      <td>8829</td>\n",
       "      <td>1.53</td>\n",
       "    </tr>\n",
       "    <tr>\n",
       "      <th>MOBIFONE</th>\n",
       "      <td>6159</td>\n",
       "      <td>4264</td>\n",
       "      <td>1.44</td>\n",
       "    </tr>\n",
       "    <tr>\n",
       "      <th>VINAPHONE</th>\n",
       "      <td>3952</td>\n",
       "      <td>2745</td>\n",
       "      <td>1.44</td>\n",
       "    </tr>\n",
       "    <tr>\n",
       "      <th>VIETNAMOBILE</th>\n",
       "      <td>827</td>\n",
       "      <td>678</td>\n",
       "      <td>1.22</td>\n",
       "    </tr>\n",
       "    <tr>\n",
       "      <th>GMOBILE</th>\n",
       "      <td>8</td>\n",
       "      <td>8</td>\n",
       "      <td>1.00</td>\n",
       "    </tr>\n",
       "  </tbody>\n",
       "</table>\n",
       "</div>"
      ],
      "text/plain": [
       "                                 transID  userID  Usage Ratio\n",
       "Giá trị khuyến mãi telco                                     \n",
       "20000              VIETTEL           194     194         1.00\n",
       "                   MOBIFONE           73      73         1.00\n",
       "                   VINAPHONE          52      52         1.00\n",
       "                   VIETNAMOBILE        7       7         1.00\n",
       "9000               VIETTEL         13508    8829         1.53\n",
       "                   MOBIFONE         6159    4264         1.44\n",
       "                   VINAPHONE        3952    2745         1.44\n",
       "                   VIETNAMOBILE      827     678         1.22\n",
       "                   GMOBILE             8       8         1.00"
      ]
     },
     "execution_count": 14,
     "metadata": {},
     "output_type": "execute_result"
    }
   ],
   "source": [
    "data_by_amount_carrier = data[['transID','userID','Giá trị khuyến mãi','telco']].groupby(['Giá trị khuyến mãi','telco'],sort = True).agg({\"transID\":\"count\",\"userID\": \"nunique\"}).sort_values(by=['Giá trị khuyến mãi', 'transID'], ascending=False)\n",
    "data_by_amount_carrier['Usage Ratio'] = data_by_amount_carrier['transID']/data_by_amount_carrier['userID']*1.00\n",
    "data_by_amount_carrier"
   ]
  },
  {
   "cell_type": "code",
   "execution_count": 15,
   "metadata": {},
   "outputs": [
    {
     "data": {
      "image/png": "[encoded data removed]",
      "text/plain": [
       "<Figure size 360x360 with 1 Axes>"
      ]
     },
     "metadata": {},
     "output_type": "display_data"
    }
   ],
   "source": [
    "# Pie chart, where the slices will be ordered and plotted counter-clockwise:\n",
    "labels = data['telco'].unique().tolist()\n",
    "data_by_carrier = data[['transID','userID','telco']].groupby(['telco'],sort = True).agg({\"transID\":\"count\",\"userID\": \"nunique\"}).sort_values(by=['transID'], ascending=False)\n",
    "\n",
    "sizes = data_by_carrier['transID']\n",
    "explode = (0.1, 0.1, 0.1, 0,0)\n",
    "\n",
    "fig1, ax1 = plt.subplots()\n",
    "ax1.pie(sizes, explode=explode, labels=labels, autopct='%1.1f%%', startangle=90)\n",
    "ax1.axis('equal')  # Equal aspect ratio ensures that pie is drawn as a circle.\n",
    "plt.legend()\n",
    "plt.title('Transactions by mobile carrier')\n",
    "fig = plt.gcf()\n",
    "fig.set_size_inches(5,5)\n",
    "plt.tight_layout()\n",
    "plt.show()"
   ]
  },
  {
   "cell_type": "markdown",
   "metadata": {},
   "source": [
    "#### Sumary:\n",
    "- Most of the transactions applied **9k voucher (VC)**. Within these group, **Viettel account for the highest number of transactions (13,508), the following is Mobifone (6,159) and Vinaphone (3,952)**. However, it should be noticed that the usage ratio of these groups is about **1.5** which means sellers in this group have a higher intention to make more than 1 transaction. \n",
    "- While **20k VC** were used only **326 times** and the usage ratio is only 1. This could be because the number of 20k VC issued is significantly lower than that of 9k VC.  The number of Viettel users is also the highest.\n",
    "- Most of the users are **Viettel** users which are accounted for **55% of total transactions**. Both **Vinaphone and Mobile** phone account for **41%**. \n",
    "\n",
    "#### Insights:\n",
    "- Most users from Viettel, while the number of users from other mobile carriers is quite low. We can mare more analysis based on this point and find the reasons behind it. Some hypotheses can be tested:\n",
    "    - 1) The number of A Pay user in the platform are mostly from Viettel carrier.\n",
    "    - 2) The campaign happened on the same day that Viettel offered a promotion, meaning that users of Viettel carrier are more likely to use A Pay during this time -> that Hypothesis can be tested by checking the promotion day of mobile carrier\n",
    "    "
   ]
  },
  {
   "cell_type": "markdown",
   "metadata": {},
   "source": [
    "### <font color='red'>Measure overall performance of this campaign - Evaluate its cost effectiveness in terms of cost per users and cost acquisition user. </font>"
   ]
  },
  {
   "cell_type": "code",
   "execution_count": 16,
   "metadata": {},
   "outputs": [
    {
     "name": "stdout",
     "output_type": "stream",
     "text": [
      "There are 24780 transactions were made by 15339 users\n",
      "CPO: 9144.71\n",
      "4243 new users paid by A Pay for the first time\n",
      "CPO for new customer: 9443\n"
     ]
    }
   ],
   "source": [
    "print(\"There are\",data[\"transID\"].count(),\"transactions were made by\", data['userID'].nunique(),\"users\")\n",
    "print(\"CPO:\", round(data['Giá trị khuyến mãi'].sum()/data['transID'].count(),2))\n",
    "print(data[data['new Pay'] == 1]['userID'].count(),\"new users paid by A Pay for the first time\")\n",
    "print(\"CPO for new customer:\",round(data[data['new Pay'] == 1]['Giá trị khuyến mãi'].sum()/data[data['new Pay'] == 1]['transID'].count()))"
   ]
  },
  {
   "cell_type": "markdown",
   "metadata": {},
   "source": [
    "#### Suggestion \n",
    "- A Pay needs to spend **9443 VND** to acquire 1 new user. The cost is not too high compared to the overall CPO. \n",
    "- However, the number of the new user only account for **28% of total user**. If the campaign focusing on acquiring new user and A want to increase more new users, A should revise the scheme or offering more attractive VC for new customers."
   ]
  },
  {
   "cell_type": "code",
   "execution_count": null,
   "metadata": {},
   "outputs": [],
   "source": []
  },
  {
   "cell_type": "code",
   "execution_count": null,
   "metadata": {},
   "outputs": [],
   "source": []
  },
  {
   "cell_type": "code",
   "execution_count": null,
   "metadata": {},
   "outputs": [],
   "source": []
  }
 ],
 "metadata": {
  "kernelspec": {
   "display_name": "Python 3",
   "language": "python",
   "name": "python3"
  },
  "language_info": {
   "codemirror_mode": {
    "name": "ipython",
    "version": 3
   },
   "file_extension": ".py",
   "mimetype": "text/x-python",
   "name": "python",
   "nbconvert_exporter": "python",
   "pygments_lexer": "ipython3",
   "version": "3.8.8"
  }
 },
 "nbformat": 4,
 "nbformat_minor": 4
}
